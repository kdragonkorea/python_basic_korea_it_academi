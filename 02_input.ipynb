{
 "cells": [
  {
   "cell_type": "markdown",
   "metadata": {},
   "source": [
    "###### 변수(variable)는  \n",
    "처리할 데이터(상수, constant)를 저장하는 기억장소를 말한다.\n",
    "\n",
    "###### 변수명 작성방법  \n",
    "영문자(대소문자를 구분한다.), 숫자, 특수문자(_)만 사용할 수 있으며 반드시 문자로 시작해야 하고 \n",
    "파이썬과 약속된 예약어는 사용할 수 없다.\n",
    "\n",
    "###### 카멜 표기법  \n",
    "totalCount와 같이 변수 이름이 2개 이상의 단어가 합쳐져서 구성될 때 2번째 이후 단어의 첫 문자를 대문자로 표기한다."
   ]
  },
  {
   "cell_type": "markdown",
   "metadata": {
    "scrolled": true
   },
   "source": [
    "파이썬은 c/c++이나 java 와 달리 변수를 선언할 때 변수의 자료형을 지정하지 않는다.  \n",
    "=> 변수에 저장되는 데이터의 타입에 따라서 자동으로 변수의 자료형이 결정된다.\n",
    "\n",
    "'='는 같다는 의미로 사용되지 않고 '=' 오른쪽의 데이터를 '=' 왼쪽의 기억장소에 저장하라는 의미로 사용된다.  \n",
    "=> 대입문, 배정문 같다는 '=='와 같이 '='를 2개연속해서 사용해야 한다."
   ]
  },
  {
   "cell_type": "code",
   "execution_count": 1,
   "metadata": {},
   "outputs": [],
   "source": [
    "# <class 'str'> => 문자열"
   ]
  },
  {
   "cell_type": "code",
   "execution_count": 2,
   "metadata": {},
   "outputs": [
    {
     "name": "stdout",
     "output_type": "stream",
     "text": [
      "<class 'str'>\n"
     ]
    }
   ],
   "source": [
    "a = '홍길동'\n",
    "print(type(a))"
   ]
  },
  {
   "cell_type": "code",
   "execution_count": 3,
   "metadata": {},
   "outputs": [],
   "source": [
    "# <class 'int'> => 정수"
   ]
  },
  {
   "cell_type": "code",
   "execution_count": 4,
   "metadata": {},
   "outputs": [
    {
     "name": "stdout",
     "output_type": "stream",
     "text": [
      "<class 'int'>\n"
     ]
    }
   ],
   "source": [
    "a = 100\n",
    "print(type(a))"
   ]
  },
  {
   "cell_type": "code",
   "execution_count": 5,
   "metadata": {},
   "outputs": [],
   "source": [
    "# <class 'float'> => 실수"
   ]
  },
  {
   "cell_type": "code",
   "execution_count": 6,
   "metadata": {},
   "outputs": [
    {
     "name": "stdout",
     "output_type": "stream",
     "text": [
      "<class 'float'>\n"
     ]
    }
   ],
   "source": [
    "a = 3.14\n",
    "print(type(a))"
   ]
  },
  {
   "cell_type": "code",
   "execution_count": 7,
   "metadata": {},
   "outputs": [],
   "source": [
    "# 파이썬은 참, 거짓을 의미한 True와 False가 있다. => 반드시 첫 문자만 대문자로 써야한다."
   ]
  },
  {
   "cell_type": "code",
   "execution_count": 8,
   "metadata": {},
   "outputs": [],
   "source": [
    "# <class 'bool'> => 논리값"
   ]
  },
  {
   "cell_type": "code",
   "execution_count": 9,
   "metadata": {},
   "outputs": [
    {
     "name": "stdout",
     "output_type": "stream",
     "text": [
      "<class 'bool'>\n"
     ]
    }
   ],
   "source": [
    "a = True\n",
    "print(type(a))"
   ]
  },
  {
   "cell_type": "code",
   "execution_count": 10,
   "metadata": {},
   "outputs": [],
   "source": [
    "# 더 이상 필요 없는 변수는 del 명령으로 삭제시킬 수 있다."
   ]
  },
  {
   "cell_type": "code",
   "execution_count": 11,
   "metadata": {},
   "outputs": [
    {
     "ename": "NameError",
     "evalue": "name 'a' is not defined",
     "output_type": "error",
     "traceback": [
      "\u001b[1;31m---------------------------------------------------------------------------\u001b[0m",
      "\u001b[1;31mNameError\u001b[0m                                 Traceback (most recent call last)",
      "\u001b[1;32m<ipython-input-11-c342333e421e>\u001b[0m in \u001b[0;36m<module>\u001b[1;34m\u001b[0m\n\u001b[0;32m      1\u001b[0m \u001b[1;32mdel\u001b[0m \u001b[0ma\u001b[0m\u001b[1;33m\u001b[0m\u001b[1;33m\u001b[0m\u001b[0m\n\u001b[1;32m----> 2\u001b[1;33m \u001b[0mprint\u001b[0m\u001b[1;33m(\u001b[0m\u001b[0ma\u001b[0m\u001b[1;33m)\u001b[0m\u001b[1;33m\u001b[0m\u001b[1;33m\u001b[0m\u001b[0m\n\u001b[0m",
      "\u001b[1;31mNameError\u001b[0m: name 'a' is not defined"
     ]
    }
   ],
   "source": [
    "del a\n",
    "print(a)"
   ]
  },
  {
   "cell_type": "code",
   "execution_count": null,
   "metadata": {},
   "outputs": [],
   "source": [
    "# input() 함수로 키보드로 입력하는 데이터를 입력받을 수 있다. => 무조건 문자열 형태로 입력된다.\n",
    "# input('메시지') : 인수로 지정된 메시지를 출력하고 데이터를 입력받는다."
   ]
  },
  {
   "cell_type": "code",
   "execution_count": null,
   "metadata": {},
   "outputs": [],
   "source": [
    "name = input('이름을 입력하세요 : ')\n",
    "print(name)"
   ]
  },
  {
   "cell_type": "code",
   "execution_count": null,
   "metadata": {},
   "outputs": [],
   "source": [
    "name = input('이름을 입력하세요 : ')\n",
    "print('%s님 안녕하세요' % name)\n",
    "print('{}님 안녕하세요'.format(name))"
   ]
  },
  {
   "cell_type": "code",
   "execution_count": 1,
   "metadata": {},
   "outputs": [
    {
     "name": "stdout",
     "output_type": "stream",
     "text": [
      "나이를 입력하세요 : 15\n",
      "<class 'str'>\n"
     ]
    }
   ],
   "source": [
    "age = input('나이를 입력하세요 : ')\n",
    "print(type(age))"
   ]
  },
  {
   "cell_type": "code",
   "execution_count": null,
   "metadata": {},
   "outputs": [],
   "source": [
    "name = input('이름을 입력하세요 : ')\n",
    "age = input('나이를 입력하세요 : ')\n",
    "print('{}님은 {}살 입니다.'.format(name, age))"
   ]
  },
  {
   "cell_type": "code",
   "execution_count": null,
   "metadata": {},
   "outputs": [],
   "source": [
    "age = input('나이를 입력하세요 : ')\n",
    "print(type(age))\n",
    "print('{}님은 {}살 입니다.' % (name, age))"
   ]
  },
  {
   "cell_type": "markdown",
   "metadata": {},
   "source": [
    "input() 함수는 무조건 문자열 형태로 데이터를 입력받기 때문에 정수나 실수 데이터를 입력받으려면 일단 입력받은 후 int() 함수나 float() 함수를 사용해서 숫자로 변환한 후 사용해야 한다."
   ]
  },
  {
   "cell_type": "code",
   "execution_count": 14,
   "metadata": {},
   "outputs": [
    {
     "name": "stdout",
     "output_type": "stream",
     "text": [
      "나이를 입력하세요 : 11\n",
      "<class 'int'>\n"
     ]
    }
   ],
   "source": [
    "age = int(input('나이를 입력하세요 : '))\n",
    "print(type(age))"
   ]
  },
  {
   "cell_type": "code",
   "execution_count": null,
   "metadata": {},
   "outputs": [],
   "source": [
    "# split() 메소드를 사용하면 구분자를 경계로 문자열을 나룰 수 있다. => 구분자를 지정하지 않으면 공백이 기본 구분자로 사용된다."
   ]
  },
  {
   "cell_type": "code",
   "execution_count": 8,
   "metadata": {},
   "outputs": [
    {
     "name": "stdout",
     "output_type": "stream",
     "text": [
      "Hello Python\n",
      "['Hello', 'Python']\n"
     ]
    }
   ],
   "source": [
    "print('Hello Python')\n",
    "print('Hello Python'.split())"
   ]
  },
  {
   "cell_type": "code",
   "execution_count": 12,
   "metadata": {},
   "outputs": [
    {
     "name": "stdout",
     "output_type": "stream",
     "text": [
      "이름과 나이를 입력하세요 : 홍길동 11\n"
     ]
    },
    {
     "ename": "ValueError",
     "evalue": "too many values to unpack (expected 2)",
     "output_type": "error",
     "traceback": [
      "\u001b[1;31m---------------------------------------------------------------------------\u001b[0m",
      "\u001b[1;31mValueError\u001b[0m                                Traceback (most recent call last)",
      "\u001b[1;32m<ipython-input-12-36c8c1b12448>\u001b[0m in \u001b[0;36m<module>\u001b[1;34m\u001b[0m\n\u001b[1;32m----> 1\u001b[1;33m \u001b[0mname\u001b[0m\u001b[1;33m,\u001b[0m \u001b[0mage\u001b[0m \u001b[1;33m=\u001b[0m \u001b[0minput\u001b[0m\u001b[1;33m(\u001b[0m\u001b[1;34m'이름과 나이를 입력하세요 : '\u001b[0m\u001b[1;33m)\u001b[0m\u001b[1;33m\u001b[0m\u001b[1;33m\u001b[0m\u001b[0m\n\u001b[0m\u001b[0;32m      2\u001b[0m \u001b[0mprint\u001b[0m\u001b[1;33m(\u001b[0m\u001b[1;34m'{}님은 {}살 입니다.'\u001b[0m\u001b[1;33m.\u001b[0m\u001b[0mformat\u001b[0m\u001b[1;33m(\u001b[0m\u001b[0mname\u001b[0m\u001b[1;33m,\u001b[0m \u001b[0mage\u001b[0m\u001b[1;33m)\u001b[0m\u001b[1;33m)\u001b[0m\u001b[1;33m\u001b[0m\u001b[1;33m\u001b[0m\u001b[0m\n",
      "\u001b[1;31mValueError\u001b[0m: too many values to unpack (expected 2)"
     ]
    }
   ],
   "source": [
    "name, age = input('이름과 나이를 입력하세요 : ')\n",
    "print('{}님은 {}살 입니다.'.format(name, age))"
   ]
  },
  {
   "cell_type": "code",
   "execution_count": 13,
   "metadata": {},
   "outputs": [
    {
     "name": "stdout",
     "output_type": "stream",
     "text": [
      "이름과 나이를 입력하세요 : 홍길동 11\n",
      "홍길동님은 11살 입니다.\n"
     ]
    }
   ],
   "source": [
    "name, age = input('이름과 나이를 입력하세요 : ').split()\n",
    "print('{}님은 {}살 입니다.'.format(name, age))"
   ]
  },
  {
   "cell_type": "code",
   "execution_count": 19,
   "metadata": {},
   "outputs": [
    {
     "name": "stdout",
     "output_type": "stream",
     "text": [
      "이름과 나이를 입력하세요 : 홍길동 22\n"
     ]
    },
    {
     "ename": "TypeError",
     "evalue": "must be str, not int",
     "output_type": "error",
     "traceback": [
      "\u001b[1;31m---------------------------------------------------------------------------\u001b[0m",
      "\u001b[1;31mTypeError\u001b[0m                                 Traceback (most recent call last)",
      "\u001b[1;32m<ipython-input-19-c248de67dbc1>\u001b[0m in \u001b[0;36m<module>\u001b[1;34m\u001b[0m\n\u001b[0;32m      1\u001b[0m \u001b[0mname\u001b[0m\u001b[1;33m,\u001b[0m \u001b[0mage\u001b[0m \u001b[1;33m=\u001b[0m \u001b[0minput\u001b[0m\u001b[1;33m(\u001b[0m\u001b[1;34m'이름과 나이를 입력하세요 : '\u001b[0m\u001b[1;33m)\u001b[0m\u001b[1;33m.\u001b[0m\u001b[0msplit\u001b[0m\u001b[1;33m(\u001b[0m\u001b[1;33m)\u001b[0m\u001b[1;33m\u001b[0m\u001b[1;33m\u001b[0m\u001b[0m\n\u001b[1;32m----> 2\u001b[1;33m \u001b[0mprint\u001b[0m\u001b[1;33m(\u001b[0m\u001b[1;34m'{}님은 내년에 {}살 입니다.'\u001b[0m\u001b[1;33m.\u001b[0m\u001b[0mformat\u001b[0m\u001b[1;33m(\u001b[0m\u001b[0mname\u001b[0m\u001b[1;33m,\u001b[0m \u001b[0mage\u001b[0m \u001b[1;33m+\u001b[0m \u001b[1;36m1\u001b[0m\u001b[1;33m)\u001b[0m\u001b[1;33m)\u001b[0m\u001b[1;33m\u001b[0m\u001b[1;33m\u001b[0m\u001b[0m\n\u001b[0m",
      "\u001b[1;31mTypeError\u001b[0m: must be str, not int"
     ]
    }
   ],
   "source": [
    "name, age = input('이름과 나이를 입력하세요 : ').split()\n",
    "print('{}님은 내년에 {}살 입니다.'.format(name, age + 1))"
   ]
  },
  {
   "cell_type": "code",
   "execution_count": null,
   "metadata": {},
   "outputs": [],
   "source": [
    "# 파이썬의 '+' 연산자는 숫자와 숫자, 문자열과 문자열의 연산만 가능하다.\n",
    "# 숫자와 숫자는 덧셈 연산을 하고 문자열과 문자열은 두 문자열을 하나로 연결하는 연결 연산을 한다.\n",
    "# 숫자와 문자열, 문자열과 숫자는 '+' 연산이 불가능하다."
   ]
  },
  {
   "cell_type": "code",
   "execution_count": 20,
   "metadata": {},
   "outputs": [
    {
     "name": "stdout",
     "output_type": "stream",
     "text": [
      "이름과 나이를 입력하세요 : 홍길동 22\n",
      "홍길동님은 내년에 23살 입니다.\n"
     ]
    }
   ],
   "source": [
    "name, age = input('이름과 나이를 입력하세요 : ').split()\n",
    "print('{}님은 내년에 {}살 입니다.'.format(name, int(age) + 1))"
   ]
  },
  {
   "cell_type": "code",
   "execution_count": null,
   "metadata": {},
   "outputs": [],
   "source": [
    "# map() 함수를 사용하면 입력받은 데이터를 split() 메소드로 나눠서 한꺼번에 숫자로 변환할 수 있다.\n",
    "# map(자료형(int 또는 float), input('메시지').split())"
   ]
  },
  {
   "cell_type": "code",
   "execution_count": 17,
   "metadata": {},
   "outputs": [
    {
     "name": "stdout",
     "output_type": "stream",
     "text": [
      "세 과목 점수를 입력하세요100 100 100\n",
      "총점 : 100100100\n"
     ]
    }
   ],
   "source": [
    "python, java, jsp = input('세 과목 점수를 입력하세요').split()\n",
    "print('총점 : {}'.format(python + java + jsp))"
   ]
  },
  {
   "cell_type": "code",
   "execution_count": 15,
   "metadata": {},
   "outputs": [
    {
     "name": "stdout",
     "output_type": "stream",
     "text": [
      "세 과목 점수를 입력하세요100 100 100\n",
      "총점 : 300\n"
     ]
    }
   ],
   "source": [
    "python, java, jsp = input('세 과목 점수를 입력하세요').split()\n",
    "print('총점 : {}'.format(int(python) + int(java) + int(jsp)))"
   ]
  },
  {
   "cell_type": "code",
   "execution_count": 16,
   "metadata": {},
   "outputs": [
    {
     "name": "stdout",
     "output_type": "stream",
     "text": [
      "세 과목 점수를 입력하세요100 100 100\n",
      "총점 : 300\n"
     ]
    }
   ],
   "source": [
    "python, java, jsp = map(int, input('세 과목 점수를 입력하세요').split())\n",
    "print('총점 : {}'.format(python + java + jsp))"
   ]
  },
  {
   "cell_type": "code",
   "execution_count": null,
   "metadata": {},
   "outputs": [],
   "source": []
  }
 ],
 "metadata": {
  "kernelspec": {
   "display_name": "Python 3",
   "language": "python",
   "name": "python3"
  },
  "language_info": {
   "codemirror_mode": {
    "name": "ipython",
    "version": 3
   },
   "file_extension": ".py",
   "mimetype": "text/x-python",
   "name": "python",
   "nbconvert_exporter": "python",
   "pygments_lexer": "ipython3",
   "version": "3.6.8"
  }
 },
 "nbformat": 4,
 "nbformat_minor": 4
}
