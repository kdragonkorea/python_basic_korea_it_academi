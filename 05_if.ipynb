{
 "cells": [
  {
   "cell_type": "markdown",
   "metadata": {},
   "source": [
    "# if 명령의 형식\n",
    "if 조건식:  \n",
    "&nbsp;&nbsp;&nbsp;조건식이 참일 경우 실행할 문장  \n",
    "&nbsp;&nbsp;&nbsp;...  \n",
    "else  \n",
    "&nbsp;&nbsp;&nbsp;조건식이 거짓일 경우 실행할 문장  \n",
    "&nbsp;&nbsp;&nbsp;...  \n",
    "(조건을 만족하지 않을 때 아무 일도 하지 않는다면 else 이하를 생략할 수 있다.)  "
   ]
  },
  {
   "cell_type": "markdown",
   "metadata": {},
   "source": [
    "# 관계(비교) 연산자\n",
    "\n",
    "연산 결과는 무조건 참(True) 또는 거짓(False)이다.\n",
    "\n",
    "* : 크다, 초과\n",
    "* `>=` : 크거나 같다, 이상\n",
    "* < : 작다, 미만\n",
    "* <= : 작거나 같다, 이하\n",
    "* == : 같다\n",
    "* != : 같지 않다"
   ]
  },
  {
   "cell_type": "markdown",
   "metadata": {},
   "source": [
    "# 논리 연산자\n",
    "연산 결과는 무조건 참(True) 또는 거짓(False)이다.   \n",
    "* and : 논리곱, 두 조건이 모두 참일 경우에만 참, ~이고, ~이면서, ~중에서\n",
    "* or : 논리합, 두 조건이 하나 이상으로 참일 경우에만 참\n",
    "* not : 논리 부정"
   ]
  },
  {
   "cell_type": "markdown",
   "metadata": {},
   "source": [
    "#### input은 문자열로 인식되기 때문에 정수로 출력을 할 경우 int를 추가해야 한다."
   ]
  },
  {
   "cell_type": "code",
   "execution_count": null,
   "metadata": {},
   "outputs": [],
   "source": [
    "age = int(input('나이를 입력하세요 : '))\n",
    "if age >= 19:\n",
    "    print('성인입니다. 어서오세요~~~~~')"
   ]
  },
  {
   "cell_type": "markdown",
   "metadata": {},
   "source": [
    "#### if와 else를 혼합해서 사용하여 2개의 논리값으로 출력한다."
   ]
  },
  {
   "cell_type": "code",
   "execution_count": null,
   "metadata": {},
   "outputs": [],
   "source": [
    "age = int(input('나이를 입력하세요 : '))\n",
    "if age >= 19:\n",
    "    print('성인입니다. 어서오세요~~~~~')\n",
    "else:\n",
    "    print('청소년 여러분 이제는 집으로 가야 할 시간입니다.')"
   ]
  },
  {
   "cell_type": "markdown",
   "metadata": {},
   "source": [
    "# 주민번호를 이용하여 성별 판별"
   ]
  },
  {
   "cell_type": "markdown",
   "metadata": {},
   "source": [
    "#### 문자열로 출력한 결과"
   ]
  },
  {
   "cell_type": "code",
   "execution_count": null,
   "metadata": {},
   "outputs": [],
   "source": [
    "jumin = input('주민등록번호 13자리를 \"-\"없이 입력하세요 : ')\n",
    "if jumin[6] == '1' or jumin[6] == '3' or jumin[6] == '5' or jumin[6] == '7' or jumin[6] == '9':\n",
    "    print('남자')\n",
    "else:\n",
    "    print('여자')"
   ]
  },
  {
   "cell_type": "markdown",
   "metadata": {},
   "source": [
    "#### **`'튜퓰()'`**을 사용하여 출력한 결과 (리스트[] 사용도 가능)"
   ]
  },
  {
   "cell_type": "code",
   "execution_count": null,
   "metadata": {},
   "outputs": [],
   "source": [
    "jumin = input('주민등록번호 13자리를 \"-\"없이 입력하세요 : ')\n",
    "if jumin[6] in ['1', '3', '5']: # in과 반대 작업을 실행하는 not in도 있다.\n",
    "    print('남자')\n",
    "else:\n",
    "    print('여자')"
   ]
  },
  {
   "cell_type": "markdown",
   "metadata": {},
   "source": [
    "#### 정수형으로 출력한 결과"
   ]
  },
  {
   "cell_type": "code",
   "execution_count": null,
   "metadata": {},
   "outputs": [],
   "source": [
    "jumin = input('주민등록번호 13자리를 \"-\"없이 입력하세요 : ')\n",
    "if int(jumin[6]) == 1 or int(jumin[6]) == 3 or int(jumin[6]) == 5:\n",
    "    print('남자')\n",
    "else:\n",
    "    print('여자')"
   ]
  },
  {
   "cell_type": "markdown",
   "metadata": {},
   "source": [
    "#### 정수형 튜플을 사용하여 출력한 결과"
   ]
  },
  {
   "cell_type": "code",
   "execution_count": null,
   "metadata": {},
   "outputs": [],
   "source": [
    "jumin = input('주민등록번호 13자리를 \"-\"없이 입력하세요 : ')\n",
    "if int(jumin[6]) in (1, 3, 5):\n",
    "    print('남자')\n",
    "else:\n",
    "    print('여자')"
   ]
  },
  {
   "cell_type": "markdown",
   "metadata": {},
   "source": [
    "#### 짝수와 홀수로 구분해서 출력한 결과"
   ]
  },
  {
   "cell_type": "code",
   "execution_count": null,
   "metadata": {},
   "outputs": [],
   "source": [
    "jumin = input('주민등록번호 13자리를 \"-\"없이 입력하세요 : ')\n",
    "if int(jumin[6])%2 == 1:\n",
    "    print('남자')\n",
    "else:\n",
    "    print('여자')"
   ]
  },
  {
   "cell_type": "markdown",
   "metadata": {},
   "source": [
    "# 주민번호를 이용하여 나이 계산"
   ]
  },
  {
   "cell_type": "code",
   "execution_count": 2,
   "metadata": {},
   "outputs": [
    {
     "name": "stdout",
     "output_type": "stream",
     "text": [
      "주민등록번호 13자리를 \"-\"없이 입력하세요 : 8803051143911\n",
      "33\n"
     ]
    }
   ],
   "source": [
    "jumin = input('주민등록번호 13자리를 \"-\"없이 입력하세요 : ')\n",
    "year = int(jumin[0:2])\n",
    "\n",
    "if year <= 99:\n",
    "    print(2021 - (1900 + year)) # 1900년도 ~ 1999년도 사이에 출생한 사람들의 주번\n",
    "else:\n",
    "    print(2021 - (2000 + year)) # 2000년도 이후에 출생한 사람들의 주번"
   ]
  },
  {
   "cell_type": "markdown",
   "metadata": {},
   "source": [
    "#### 나이"
   ]
  },
  {
   "cell_type": "code",
   "execution_count": 4,
   "metadata": {},
   "outputs": [
    {
     "name": "stdout",
     "output_type": "stream",
     "text": [
      "주민등록번호 13자리를 \"-\"없이 입력하세요 : 8803051143911\n",
      "1988\n"
     ]
    }
   ],
   "source": [
    "jumin = input('주민등록번호 13자리를 \"-\"없이 입력하세요 : ')\n",
    "year = int(jumin[:2])\n",
    "\n",
    "if jumin[6] <= '2':\n",
    "    year = year + 1900\n",
    "else:\n",
    "    year = year + 2000\n",
    "    \n",
    "print(year)"
   ]
  },
  {
   "cell_type": "markdown",
   "metadata": {},
   "source": [
    "#### 대입 연산자를 이용하여 변경한 결과\n",
    "대입연산자: +=, -=, *=, /=, //=, %="
   ]
  },
  {
   "cell_type": "code",
   "execution_count": 9,
   "metadata": {},
   "outputs": [
    {
     "name": "stdout",
     "output_type": "stream",
     "text": [
      "주민등록번호 13자리를 \"-\"없이 입력하세요 : 8803051143911\n",
      "1988\n"
     ]
    }
   ],
   "source": [
    "jumin = input('주민등록번호 13자리를 \"-\"없이 입력하세요 : ')\n",
    "year = int(jumin[:2])\n",
    "\n",
    "if jumin[6] <= '2':\n",
    "    year += 1900 # year = year + 1900\n",
    "else:\n",
    "    year += 2000 # 우측과 동일한 표현 year = year + 2000\n",
    "    \n",
    "print(year)"
   ]
  },
  {
   "cell_type": "code",
   "execution_count": null,
   "metadata": {},
   "outputs": [],
   "source": [
    "jumin = input('주민등록번호 13자리를 \"-\"없이 입력하세요 : ')\n",
    "# print(jumin[0:2])\n",
    "\n",
    "year = int(jumin[:2])\n",
    "# print(type(year))\n",
    "\n",
    "if jumin[6] <= '2':\n",
    "    year = year + 1900\n",
    "else:\n",
    "    # year = year + 2000\n",
    "    # 대입 연산자 => '='와 같이 사용된다. => +=, -=, *=, /=, //=, %=\n",
    "    year += 2000\n",
    "    \n",
    "print('당신의 출생년도는 {}년 이고 {}살 입니다.'.format(year, 2020 - year))"
   ]
  },
  {
   "cell_type": "markdown",
   "metadata": {},
   "source": [
    "#### 나이 - 계산방법2  \n",
    "if 명령의 조건 비교 결과 참 또는 거짓일 때 실행할 문장이 각각 1문장 씩 일 경우 삼항 연산자를 사용해서 처리할 수 있다.  \n",
    "삼항 연산자 형식 => 조건이 참일 때 실행할 문장 if 조건식 else 조건이 거짓일 경우 실행할 문장"
   ]
  },
  {
   "cell_type": "code",
   "execution_count": null,
   "metadata": {},
   "outputs": [],
   "source": [
    "jumin = input('주민등록번호 13자리를 \"-\"없이 입력하세요 : ')\n",
    "year = int(jumin[:2])\n",
    "\n",
    "year += 1900 if jumin[6] <= '2' else 2000\n",
    "\n",
    "print('당신의 출생년도는 {}년 이고 {}살 입니다.'.format(year, 2020 - year))"
   ]
  },
  {
   "cell_type": "markdown",
   "metadata": {},
   "source": [
    "#### 3과목 점수를 한 번에 입력받아서 평균을 계산한 후 A, B, C, D, F를 출력한다."
   ]
  },
  {
   "cell_type": "code",
   "execution_count": null,
   "metadata": {},
   "outputs": [],
   "source": [
    "# 파이썬에서는 아래와 같은 명령어로 입력해도 가능하지만, 다른 언어에서는 불가능하다."
   ]
  },
  {
   "cell_type": "code",
   "execution_count": null,
   "metadata": {},
   "outputs": [],
   "source": [
    "python, java, jsp = map(int, input('세 과목 점수를 입력하세요').split())\n",
    "total = python + java + jsp\n",
    "average = total / 3\n",
    "print('총점 : {0:3d}점, 평균 : {1:5.1f}'.format(total, average))\n",
    "\n",
    "if 80 <= average < 90:\n",
    "    print('평균:{0:5.1f}, 등급: B'.format(average))"
   ]
  },
  {
   "cell_type": "code",
   "execution_count": null,
   "metadata": {},
   "outputs": [],
   "source": [
    "python, java, jsp = map(int, input('세 과목 점수를 입력하세요').split())\n",
    "total = python + java + jsp\n",
    "average = total / 3\n",
    "print('총점 : {0:3d}점, 평균 : {1:5.1f}'.format(total, average))\n",
    "\n",
    "if average >= 90:\n",
    "    print('평균:{0:5.1f}, 등급: A'.format(average))\n",
    "if average < 90 and average >= 80:\n",
    "    print('평균:{0:5.1f}, 등급: B'.format(average))\n",
    "if average < 80 and average >= 70:\n",
    "    print('평균:{0:5.1f}, 등급: C'.format(average))\n",
    "if average < 70 and average >= 60:\n",
    "    print('평균:{0:5.1f}, 등급: D'.format(average))\n",
    "if average < 60:\n",
    "    print('평균:{0:5.1f}, 등급: F'.format(average))"
   ]
  },
  {
   "cell_type": "code",
   "execution_count": null,
   "metadata": {},
   "outputs": [],
   "source": [
    "python, java, jsp = map(int, input('세 과목 점수를 입력하세요').split())\n",
    "total = python + java + jsp\n",
    "average = total / 3\n",
    "print('총점 : {0:3d}점, 평균 : {1:5.1f}'.format(total, average))\n",
    "\n",
    "if average >= 90:\n",
    "    print('평균:{0:5.1f}, 등급: A'.format(average))\n",
    "elif average < 90 and average >= 80:\n",
    "    print('평균:{0:5.1f}, 등급: B'.format(average))\n",
    "elif average < 80 and average >= 70:\n",
    "    print('평균:{0:5.1f}, 등급: C'.format(average))\n",
    "elif average < 70 and average >= 60:\n",
    "    print('평균:{0:5.1f}, 등급: D'.format(average))\n",
    "elif average < 60:\n",
    "    print('평균:{0:5.1f}, 등급: F'.format(average))"
   ]
  },
  {
   "cell_type": "code",
   "execution_count": null,
   "metadata": {},
   "outputs": [],
   "source": [
    "python, java, jsp = map(int, input('세 과목 점수를 입력하세요').split())\n",
    "total = python + java + jsp\n",
    "average = total / 3\n",
    "print('총점 : {0:3d}점, 평균 : {1:5.1f}'.format(total, average))\n",
    "\n",
    "if average >= 90:\n",
    "    print('평균:{0:5.1f}, 등급: A'.format(average))\n",
    "elif average >= 80:\n",
    "    print('평균:{0:5.1f}, 등급: B'.format(average))\n",
    "elif average >= 70:\n",
    "    print('평균:{0:5.1f}, 등급: C'.format(average))\n",
    "elif average >= 60:\n",
    "    print('평균:{0:5.1f}, 등급: D'.format(average))\n",
    "else:\n",
    "    print('평균:{0:5.1f}, 등급: F'.format(average))"
   ]
  },
  {
   "cell_type": "markdown",
   "metadata": {},
   "source": [
    "# 윤년, 평년 판별식"
   ]
  },
  {
   "cell_type": "code",
   "execution_count": null,
   "metadata": {},
   "outputs": [],
   "source": [
    "# 윤년: 년도가 4로 나눠 떨어지고(and) 100으로 나눠 떨어지지 않거나(or) 400으로 나눠 떨어지는 년도\n",
    "# 평년: 윤년이 아닌 경우"
   ]
  },
  {
   "cell_type": "code",
   "execution_count": null,
   "metadata": {},
   "outputs": [],
   "source": [
    "year = int(input('윤년 평년을 판별할 년도를 입력하세요 :'))\n",
    "\n",
    "if year % 4 == 0 and year & 100 != 0 or year % 400 == 0:\n",
    "    print('{}년은 윤년입니다.'.format(year))\n",
    "else:\n",
    "    print('{}년은 평년입니다.'.format(year))"
   ]
  },
  {
   "cell_type": "code",
   "execution_count": null,
   "metadata": {},
   "outputs": [],
   "source": [
    "# 윤년, 평년 판별식\n",
    "# 년도가 4로 나눠 떨어지고(and) 100으로 나눠 떨어지지 않거나(or) 400으로 나눠 떨어지면 윤년\n",
    "year = int(input('윤년 평년을 판별할 년도를 입력하세요 :'))\n",
    "\n",
    "# 프로그램에서 여러 번 사용되는 상수나 연산식의 결과는 변수에 저장시켜 사용하면 관리가 편해진다.\n",
    "# 논리값을 기억하는 변수는 이름을 'is' 로 시작하는 것이 관행이다.\n",
    "isLeapYear = year % 4 == 0 and year & 100 != 0 or year % 400 == 0\n",
    "\n",
    "if isLeapYear:\n",
    "    print('{}년은 윤년입니다.'.format(year))\n",
    "else:\n",
    "    print('{}년은 평년입니다.'.format(year))\n",
    "    \n",
    "print('{}년은 {}년입니다.'.format(year,'윤' isLeapYear else '평'))\n"
   ]
  },
  {
   "cell_type": "markdown",
   "metadata": {},
   "source": [
    "# 가위(1), 바위(2), 보(3)"
   ]
  },
  {
   "cell_type": "markdown",
   "metadata": {},
   "source": [
    "1. 컴퓨터가 랜덤하게 뽑아낸 가위, 바위, 보와 사용자가 입력한 가위, 바위, 보를 비교한다.\n",
    "2. 난수를 발생시키기 위해 random 모듈을 import 시킨다.\n",
    "3. 난수 발생은 randrange(a, b) 메소드를 사용하고 a 부터 b-1 사이의 난수를 발생시킨다."
   ]
  },
  {
   "cell_type": "code",
   "execution_count": null,
   "metadata": {},
   "outputs": [],
   "source": [
    "import random\n",
    "cpu = random.randrange(1, 4)\n",
    "print('cpu : {}'.format(cpu))"
   ]
  },
  {
   "cell_type": "code",
   "execution_count": null,
   "metadata": {},
   "outputs": [],
   "source": [
    "import random\n",
    "\n",
    "# 난수 발생은 randrange(a, b) 메소드를 사용하고 a 부터 b-1 사이의 난수를 발생시킨다.\n",
    "cpu = random.randrange(1, 4)\n",
    "print('cpu : {}'.format(cpu))\n",
    "\n",
    "user = int(input('가위(1), 바위(2), 보(3) : '))\n",
    "print('user : {}'.format(user))"
   ]
  },
  {
   "cell_type": "code",
   "execution_count": null,
   "metadata": {},
   "outputs": [],
   "source": [
    "# 승리 조건 => cpu == 1 이고 == 2 또는 cpu == 2 이고 == 3 또는 cpu == 3 이고 == 1\n",
    "# 패배 조건 => cpu == 1 이고 == 3 또는 cpu == 2 이고 == 1 또는 cpu == 3 이고 == 2\n",
    "# 승리 조건과 패배 조건을 모두 만족하지 않으면 비김 조건이 된다."
   ]
  },
  {
   "cell_type": "code",
   "execution_count": null,
   "metadata": {},
   "outputs": [],
   "source": [
    "import random\n",
    "\n",
    "cpu = random.randrange(1, 4)\n",
    "print('cpu : {}'.format(cpu))\n",
    "\n",
    "user = int(input('가위(1), 바위(2), 보(3) : '))\n",
    "print('user : {}'.format(user))\n",
    "\n",
    "if cpu == 1 and user == 2 or cpu == 2 and user == 3 or cpu == 3 and user == 1:\n",
    "    print(\"승리\")\n",
    "elif cpu == 1 and user == 3 or cpu == 2 and user == 1 or cpu == 3 and user == 2:\n",
    "    print(\"패배\")\n",
    "else:\n",
    "    print(\"비김\")"
   ]
  },
  {
   "cell_type": "code",
   "execution_count": null,
   "metadata": {},
   "outputs": [],
   "source": []
  }
 ],
 "metadata": {
  "kernelspec": {
   "display_name": "Python 3",
   "language": "python",
   "name": "python3"
  },
  "language_info": {
   "codemirror_mode": {
    "name": "ipython",
    "version": 3
   },
   "file_extension": ".py",
   "mimetype": "text/x-python",
   "name": "python",
   "nbconvert_exporter": "python",
   "pygments_lexer": "ipython3",
   "version": "3.7.6"
  }
 },
 "nbformat": 4,
 "nbformat_minor": 4
}
