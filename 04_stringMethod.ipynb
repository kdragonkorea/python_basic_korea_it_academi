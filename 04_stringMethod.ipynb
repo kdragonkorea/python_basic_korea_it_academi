{
 "cells": [
  {
   "cell_type": "code",
   "execution_count": 5,
   "metadata": {},
   "outputs": [],
   "source": [
    "# len() 함수는 문자열을 구성하는 문자의 개수를 얻어온다."
   ]
  },
  {
   "cell_type": "code",
   "execution_count": 6,
   "metadata": {},
   "outputs": [
    {
     "name": "stdout",
     "output_type": "stream",
     "text": [
      "33\n"
     ]
    }
   ],
   "source": [
    "string = 'We are the champions, My friends!'\n",
    "print(len(string))"
   ]
  },
  {
   "cell_type": "code",
   "execution_count": 8,
   "metadata": {},
   "outputs": [],
   "source": [
    "# count() 메소드는 인수로 지정된 문자열의 출연 횟수를 얻어온다.\n",
    "# count() 메소드는 인수로 지정된 문자열이 특정 문자열에 포함되어있나 알 수 있다. => 결과가 1 이상이면 포함, 0은 불포함"
   ]
  },
  {
   "cell_type": "code",
   "execution_count": 9,
   "metadata": {},
   "outputs": [
    {
     "name": "stdout",
     "output_type": "stream",
     "text": [
      "4\n",
      "1\n",
      "0\n"
     ]
    }
   ],
   "source": [
    "string = 'We are the champions, My friends!'\n",
    "\n",
    "print(string.count('e'))\n",
    "print(string.count('We'))\n",
    "print(string.count('we'))"
   ]
  },
  {
   "cell_type": "code",
   "execution_count": 11,
   "metadata": {},
   "outputs": [],
   "source": [
    "# find() 메소드는 인수로 지정된 문자열이 최초로 나타나는 인덱스를 얻어온다.\n",
    "# => 인수로 지정된 문자열이 포함되어있지 않으면 -1이 리턴된다.\n",
    "# find() 메소드의 인수로 지정된 문자열이 특정 문자열에 포함되어있나 알아낼 수 있다.\n",
    "# => 0 이상이면, 포함, -1은 불포함"
   ]
  },
  {
   "cell_type": "code",
   "execution_count": 35,
   "metadata": {},
   "outputs": [
    {
     "name": "stdout",
     "output_type": "stream",
     "text": [
      "1\n",
      "0\n",
      "-1\n",
      "3\n"
     ]
    }
   ],
   "source": [
    "string = 'We are the champions, My friends!'\n",
    "\n",
    "print(string.find('e'))\n",
    "print(string.find('We'))\n",
    "print(string.find('we'))\n",
    "print(string.find('are'))"
   ]
  },
  {
   "cell_type": "code",
   "execution_count": 15,
   "metadata": {},
   "outputs": [],
   "source": [
    "# index() 메소드는 인수로 지정된 문자열이 최초로 나타나는 인덱스를 얻어온다.\n",
    "# => 인수로 지정된 문자열이 포함되어있지 않으면 에러가 발생된다.\n",
    "# index() 메소드의 인수로 지정된 문자열이 특정 문자열에 포함되어있나 알아낼 수 있다.\n",
    "# => 0 이상이면 포함, 에러가 발생하면 불포함"
   ]
  },
  {
   "cell_type": "code",
   "execution_count": 17,
   "metadata": {},
   "outputs": [
    {
     "name": "stdout",
     "output_type": "stream",
     "text": [
      "1\n",
      "0\n"
     ]
    },
    {
     "ename": "ValueError",
     "evalue": "substring not found",
     "output_type": "error",
     "traceback": [
      "\u001b[1;31m---------------------------------------------------------------------------\u001b[0m",
      "\u001b[1;31mValueError\u001b[0m                                Traceback (most recent call last)",
      "\u001b[1;32m<ipython-input-17-4c11b9087747>\u001b[0m in \u001b[0;36m<module>\u001b[1;34m\u001b[0m\n\u001b[0;32m      3\u001b[0m \u001b[0mprint\u001b[0m\u001b[1;33m(\u001b[0m\u001b[0mstring\u001b[0m\u001b[1;33m.\u001b[0m\u001b[0mindex\u001b[0m\u001b[1;33m(\u001b[0m\u001b[1;34m'e'\u001b[0m\u001b[1;33m)\u001b[0m\u001b[1;33m)\u001b[0m\u001b[1;33m\u001b[0m\u001b[1;33m\u001b[0m\u001b[0m\n\u001b[0;32m      4\u001b[0m \u001b[0mprint\u001b[0m\u001b[1;33m(\u001b[0m\u001b[0mstring\u001b[0m\u001b[1;33m.\u001b[0m\u001b[0mindex\u001b[0m\u001b[1;33m(\u001b[0m\u001b[1;34m'We'\u001b[0m\u001b[1;33m)\u001b[0m\u001b[1;33m)\u001b[0m\u001b[1;33m\u001b[0m\u001b[1;33m\u001b[0m\u001b[0m\n\u001b[1;32m----> 5\u001b[1;33m \u001b[0mprint\u001b[0m\u001b[1;33m(\u001b[0m\u001b[0mstring\u001b[0m\u001b[1;33m.\u001b[0m\u001b[0mindex\u001b[0m\u001b[1;33m(\u001b[0m\u001b[1;34m'we'\u001b[0m\u001b[1;33m)\u001b[0m\u001b[1;33m)\u001b[0m\u001b[1;33m\u001b[0m\u001b[1;33m\u001b[0m\u001b[0m\n\u001b[0m\u001b[0;32m      6\u001b[0m \u001b[1;33m\u001b[0m\u001b[0m\n\u001b[0;32m      7\u001b[0m \u001b[1;31m# 무언가를 찾을 때는 find 함수를 가장 많이 사용한다.\u001b[0m\u001b[1;33m\u001b[0m\u001b[1;33m\u001b[0m\u001b[1;33m\u001b[0m\u001b[0m\n",
      "\u001b[1;31mValueError\u001b[0m: substring not found"
     ]
    }
   ],
   "source": [
    "string = 'We are the champions, My friends!'\n",
    "\n",
    "print(string.index('e'))\n",
    "print(string.index('We'))\n",
    "print(string.index('we'))\n",
    "\n",
    "# 무언가를 찾을 때는 find 함수를 가장 많이 사용한다."
   ]
  },
  {
   "cell_type": "code",
   "execution_count": 18,
   "metadata": {},
   "outputs": [],
   "source": [
    "# join() 메소드로 인수로 지정된 문자열을 특정 문자열의 문자 사이에 삽입한다."
   ]
  },
  {
   "cell_type": "code",
   "execution_count": 19,
   "metadata": {},
   "outputs": [
    {
     "name": "stdout",
     "output_type": "stream",
     "text": [
      "K/o/r/e/a/I/T\n",
      "K^^o^^r^^e^^a^^I^^T\n",
      "K o r e a I T\n",
      "K  o  r  e  a  I  T\n"
     ]
    }
   ],
   "source": [
    "string = 'KoreaIT'\n",
    "print('/'.join(string))\n",
    "print('^^'.join(string))\n",
    "print(' '.join(string))\n",
    "print('  '.join(string))"
   ]
  },
  {
   "cell_type": "code",
   "execution_count": 20,
   "metadata": {},
   "outputs": [],
   "source": [
    "# upper() 메소드는 인수로 지정된 문자열을 무조건 대문자로 변환하고 lower() 메소드는 인수로 지정된 문자열을 무조건 소문자로 변환한다.\n",
    "# 문자열을 무조건 소문자로 변환한다."
   ]
  },
  {
   "cell_type": "code",
   "execution_count": 21,
   "metadata": {},
   "outputs": [
    {
     "name": "stdout",
     "output_type": "stream",
     "text": [
      "KOREAIT\n",
      "koreait\n"
     ]
    }
   ],
   "source": [
    "string = 'KoreaIT'\n",
    "\n",
    "print(string.upper())\n",
    "print(string.lower())"
   ]
  },
  {
   "cell_type": "code",
   "execution_count": 22,
   "metadata": {},
   "outputs": [],
   "source": [
    "# strip / rstrip / lstrip"
   ]
  },
  {
   "cell_type": "code",
   "execution_count": 44,
   "metadata": {},
   "outputs": [],
   "source": [
    "# lstrip() 메소드는 문자열의 왼쪽(앞)의 불필요한 공백을 제거한다."
   ]
  },
  {
   "cell_type": "code",
   "execution_count": 45,
   "metadata": {
    "scrolled": true
   },
   "outputs": [
    {
     "name": "stdout",
     "output_type": "stream",
     "text": [
      "14\n",
      "    python    \n",
      "10\n",
      "python    \n"
     ]
    }
   ],
   "source": [
    "string = '    python    '\n",
    "print(len(string))\n",
    "print(string)\n",
    "print(len(string.lstrip()))\n",
    "print(string.lstrip())"
   ]
  },
  {
   "cell_type": "code",
   "execution_count": 42,
   "metadata": {},
   "outputs": [],
   "source": [
    "# rstrip() 메소드는 문자열의 오른쪽(앞)의 불필요한 공백을 제거한다."
   ]
  },
  {
   "cell_type": "code",
   "execution_count": 43,
   "metadata": {},
   "outputs": [
    {
     "name": "stdout",
     "output_type": "stream",
     "text": [
      "10\n",
      "    python\n"
     ]
    }
   ],
   "source": [
    "string = '    python    '\n",
    "print(len(string.rstrip()))\n",
    "print(string.rstrip())"
   ]
  },
  {
   "cell_type": "code",
   "execution_count": 41,
   "metadata": {},
   "outputs": [],
   "source": [
    "# strip() 메소드는 문자열의 앞, 뒤의 불필요한 공백을 제거한다."
   ]
  },
  {
   "cell_type": "code",
   "execution_count": 40,
   "metadata": {},
   "outputs": [
    {
     "name": "stdout",
     "output_type": "stream",
     "text": [
      "6\n",
      "python\n"
     ]
    }
   ],
   "source": [
    "string = '    python    '\n",
    "print(len(string.strip()))\n",
    "print(string.strip())"
   ]
  },
  {
   "cell_type": "code",
   "execution_count": 24,
   "metadata": {},
   "outputs": [],
   "source": [
    "# replace(oldString, newString) 메소드는 문자열의 모든 oldString을 newString으로 치환한다."
   ]
  },
  {
   "cell_type": "code",
   "execution_count": 25,
   "metadata": {},
   "outputs": [
    {
     "name": "stdout",
     "output_type": "stream",
     "text": [
      "We are the champions, Your friends!\n",
      "W뷁 ar뷁 th뷁 champions, My fri뷁nds!\n"
     ]
    }
   ],
   "source": [
    "string = 'We are the champions, My friends!'\n",
    "print(string.replace('My', 'Your'))\n",
    "print(string.replace('e', '뷁'))"
   ]
  },
  {
   "cell_type": "code",
   "execution_count": 26,
   "metadata": {},
   "outputs": [],
   "source": [
    "# split() 메소드는 문자열을 인수로 지정된 구분자를 이용해서 나눈다. => split() 메소드의 실행 결과는 list 타입으로 리턴된다."
   ]
  },
  {
   "cell_type": "code",
   "execution_count": 46,
   "metadata": {},
   "outputs": [
    {
     "name": "stdout",
     "output_type": "stream",
     "text": [
      "['We', 'are', 'the', 'champions,', 'My', 'friends!']\n",
      "<class 'list'>\n",
      "['We are the champions', ' My friends!']\n",
      "['We are the champion', ', My friend', '!']\n"
     ]
    }
   ],
   "source": [
    "string = 'We are the champions, My friends!'\n",
    "print(string.split()) # 구분자를 생략하면 공백이 기본 구분자로 사용된다.\n",
    "print(type(string.split()))\n",
    "print(string.split(',')) # 구분자\n",
    "print(string.split('s'))"
   ]
  },
  {
   "cell_type": "code",
   "execution_count": 28,
   "metadata": {},
   "outputs": [],
   "source": [
    "# strip() 메소드 응용편\n",
    "# strip() 메소드는 인수를 생략하면 기본값으로 문자열의 양 끝 공백을 제거한다."
   ]
  },
  {
   "cell_type": "code",
   "execution_count": 52,
   "metadata": {},
   "outputs": [
    {
     "name": "stdout",
     "output_type": "stream",
     "text": [
      "python\n"
     ]
    }
   ],
   "source": [
    "string = '    python    '\n",
    "print(string.strip())"
   ]
  },
  {
   "cell_type": "code",
   "execution_count": 50,
   "metadata": {},
   "outputs": [],
   "source": [
    "# strip() 메소드가 꼭 공백만을 제거하는 것은 아니다.\n",
    "# 인수로 지정된 문자가 더 이상 양 끝에 나타나지 않을 때 까지 인수로 지정된 문자를 제거한다.\n",
    "# => 인수에 입력한 문자 순서와 제거하는 순서는 상관없다."
   ]
  },
  {
   "cell_type": "code",
   "execution_count": 51,
   "metadata": {},
   "outputs": [
    {
     "name": "stdout",
     "output_type": "stream",
     "text": [
      "example\n",
      "example\n",
      "xampl\n"
     ]
    }
   ],
   "source": [
    "print('www.example.com'.strip('w.com'))\n",
    "print('www.example.com'.strip('wmoc.'))\n",
    "print('www.example.com'.strip('wmoce.'))"
   ]
  },
  {
   "cell_type": "markdown",
   "metadata": {},
   "source": [
    "# 파이썬 공백 처리방법"
   ]
  },
  {
   "cell_type": "code",
   "execution_count": 58,
   "metadata": {},
   "outputs": [
    {
     "name": "stdout",
     "output_type": "stream",
     "text": [
      "       hello                    python           \n",
      "hello                    python\n"
     ]
    }
   ],
   "source": [
    "string = '       hello                    python           '\n",
    "print(string)\n",
    "print(string.strip())"
   ]
  },
  {
   "cell_type": "code",
   "execution_count": 53,
   "metadata": {},
   "outputs": [],
   "source": [
    "# replace() 메소드를 사용한 모든 공백 제거"
   ]
  },
  {
   "cell_type": "code",
   "execution_count": 54,
   "metadata": {},
   "outputs": [
    {
     "name": "stdout",
     "output_type": "stream",
     "text": [
      "hellopython\n"
     ]
    }
   ],
   "source": [
    "string = '       hello                    python           '\n",
    "print(string.replace(' ',''))"
   ]
  },
  {
   "cell_type": "code",
   "execution_count": 55,
   "metadata": {},
   "outputs": [],
   "source": [
    "# split(), join() 메소드를 사용해서 문자열 앞, 뒤의 모든 빈칸을 제거하고 \n",
    "# 문자열 사이에 2칸 이상 띄어쓰기를 한 곳은 1칸만 띄어쓰기가 되게 한다."
   ]
  },
  {
   "cell_type": "code",
   "execution_count": 59,
   "metadata": {},
   "outputs": [
    {
     "name": "stdout",
     "output_type": "stream",
     "text": [
      "['hello', 'python']\n"
     ]
    }
   ],
   "source": [
    "string = '       hello                    python           '\n",
    "print(string.split())"
   ]
  },
  {
   "cell_type": "code",
   "execution_count": 60,
   "metadata": {},
   "outputs": [
    {
     "name": "stdout",
     "output_type": "stream",
     "text": [
      "hello python\n"
     ]
    }
   ],
   "source": [
    "string = '       hello                    python           '\n",
    "print(' '.join(string.split()))"
   ]
  },
  {
   "cell_type": "code",
   "execution_count": null,
   "metadata": {},
   "outputs": [],
   "source": []
  }
 ],
 "metadata": {
  "kernelspec": {
   "display_name": "Python 3",
   "language": "python",
   "name": "python3"
  },
  "language_info": {
   "codemirror_mode": {
    "name": "ipython",
    "version": 3
   },
   "file_extension": ".py",
   "mimetype": "text/x-python",
   "name": "python",
   "nbconvert_exporter": "python",
   "pygments_lexer": "ipython3",
   "version": "3.6.8"
  }
 },
 "nbformat": 4,
 "nbformat_minor": 4
}
