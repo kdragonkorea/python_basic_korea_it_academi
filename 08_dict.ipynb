{
 "cells": [
  {
   "cell_type": "markdown",
   "metadata": {},
   "source": [
    "#### dict = dictionary  \n",
    "#### 딕셔너리 만들기  \n",
    "대응 관계를 나타내는 자료형으로 key와 key에 할당되는 데이터(value)가 한 쌍이 되는 자료형이다.  \n",
    "{key: value, key: value, ...}와 같은 형태를 가지는 자료형이다.  \n",
    "key는 일반적으로 string 형태로 만들어 사용하고 value는 딕셔너리에 저장할 데이터를 입력한다."
   ]
  },
  {
   "cell_type": "code",
   "execution_count": 2,
   "metadata": {},
   "outputs": [],
   "source": [
    "# 빈 딕셔너리 만들기"
   ]
  },
  {
   "cell_type": "code",
   "execution_count": 3,
   "metadata": {},
   "outputs": [
    {
     "name": "stdout",
     "output_type": "stream",
     "text": [
      "{}\n",
      "<class 'dict'>\n"
     ]
    }
   ],
   "source": [
    "a = {}\n",
    "print(a)\n",
    "print(type(a))"
   ]
  },
  {
   "cell_type": "code",
   "execution_count": 5,
   "metadata": {},
   "outputs": [],
   "source": [
    "# 생성자 함수를 사용해서 딕셔너리를 만들 수 있다."
   ]
  },
  {
   "cell_type": "code",
   "execution_count": 6,
   "metadata": {},
   "outputs": [
    {
     "name": "stdout",
     "output_type": "stream",
     "text": [
      "{}\n",
      "<class 'dict'>\n"
     ]
    }
   ],
   "source": [
    "b = dict()\n",
    "print(b)\n",
    "print(type(b))"
   ]
  },
  {
   "cell_type": "code",
   "execution_count": 7,
   "metadata": {},
   "outputs": [
    {
     "name": "stdout",
     "output_type": "stream",
     "text": [
      "{'name': '홍길동', 'phone': '010-1234-1234', 'age': 20}\n",
      "<class 'dict'>\n"
     ]
    }
   ],
   "source": [
    "a = {'name': '홍길동', 'phone': '010-1234-1234', 'age': 20}\n",
    "print(a)\n",
    "print(type(a))"
   ]
  },
  {
   "cell_type": "markdown",
   "metadata": {},
   "source": [
    "#### 딕셔너리에 데이터 추가 및 수정하기  \n",
    "존재하지 않는 key에 value를 할당하면 데이터가 추가되고 존재하는 key에 데이터를 할당하면 데이터가 수정된다."
   ]
  },
  {
   "cell_type": "code",
   "execution_count": 8,
   "metadata": {},
   "outputs": [],
   "source": [
    "# 딕셔너리이름[key] = value"
   ]
  },
  {
   "cell_type": "code",
   "execution_count": 27,
   "metadata": {},
   "outputs": [],
   "source": [
    "# 추가"
   ]
  },
  {
   "cell_type": "code",
   "execution_count": 50,
   "metadata": {},
   "outputs": [
    {
     "name": "stdout",
     "output_type": "stream",
     "text": [
      "{'name': '홍길동', 'phone': '010-1234-1234', 'age': 20}\n",
      "{'name': '홍길동', 'phone': '010-1234-1234', 'age': 20, 'gender': '남자'}\n"
     ]
    }
   ],
   "source": [
    "a = {'name': '홍길동', 'phone': '010-1234-1234', 'age': 20}\n",
    "print(a)\n",
    "a['gender'] = '남자'\n",
    "print(a)"
   ]
  },
  {
   "cell_type": "code",
   "execution_count": null,
   "metadata": {},
   "outputs": [],
   "source": [
    "# 수정"
   ]
  },
  {
   "cell_type": "code",
   "execution_count": 36,
   "metadata": {},
   "outputs": [
    {
     "name": "stdout",
     "output_type": "stream",
     "text": [
      "{'name': '홍길동', 'phone': '010-1234-1234', 'age': 20, 'gender': '남자'}\n",
      "{'name': '홍길동', 'phone': '010-1234-1234', 'age': 20, 'gender': '여자'}\n"
     ]
    }
   ],
   "source": [
    "print(a)\n",
    "a['gender'] = '여자'  \n",
    "print(a)"
   ]
  },
  {
   "cell_type": "markdown",
   "metadata": {},
   "source": [
    "#### 딕셔너리에 저장된 데이터 삭제하기"
   ]
  },
  {
   "cell_type": "code",
   "execution_count": 10,
   "metadata": {},
   "outputs": [],
   "source": [
    "# del 딕셔너리이름[key]"
   ]
  },
  {
   "cell_type": "code",
   "execution_count": 52,
   "metadata": {},
   "outputs": [
    {
     "name": "stdout",
     "output_type": "stream",
     "text": [
      "{'name': '홍길동', 'phone': '010-1234-1234', 'age': 20}\n",
      "{'name': '홍길동', 'phone': '010-1234-1234'}\n"
     ]
    }
   ],
   "source": [
    "a = {'name': '홍길동', 'phone': '010-1234-1234', 'age': 20}\n",
    "print(a)\n",
    "del a['age']\n",
    "print(a)"
   ]
  },
  {
   "cell_type": "markdown",
   "metadata": {},
   "source": [
    "#### 딕셔너리에 저장된 데이터 얻어오기"
   ]
  },
  {
   "cell_type": "code",
   "execution_count": 12,
   "metadata": {},
   "outputs": [],
   "source": [
    "# 딕셔너리이름[key] 또는 딕셔너리이름.get(key)"
   ]
  },
  {
   "cell_type": "code",
   "execution_count": 39,
   "metadata": {},
   "outputs": [
    {
     "name": "stdout",
     "output_type": "stream",
     "text": [
      "홍길동\n",
      "010-1234-1234\n",
      "20\n",
      "20\n"
     ]
    }
   ],
   "source": [
    "a = {'name': '홍길동', 'phone': '010-1234-1234', 'age': 20}\n",
    "print(a['name'])\n",
    "print(a.get('phone'))\n",
    "print(a['age'])\n",
    "print(a.get('age'))"
   ]
  },
  {
   "cell_type": "code",
   "execution_count": 15,
   "metadata": {},
   "outputs": [],
   "source": [
    "# keys() 메소드는 딕셔너리에서 key 목록만 얻어온다."
   ]
  },
  {
   "cell_type": "code",
   "execution_count": 45,
   "metadata": {},
   "outputs": [
    {
     "name": "stdout",
     "output_type": "stream",
     "text": [
      "{'name': '홍길동', 'phone': '010-1234-1234', 'age': 20}\n",
      "dict_keys(['name', 'phone', 'age'])\n",
      "dict_values(['홍길동', '010-1234-1234', 20])\n",
      "dict_items([('name', '홍길동'), ('phone', '010-1234-1234'), ('age', 20)])\n"
     ]
    }
   ],
   "source": [
    "a = {'name': '홍길동', 'phone': '010-1234-1234', 'age': 20}\n",
    "print(a)\n",
    "print(a.keys())\n",
    "print(a.values())\n",
    "print(a.items())"
   ]
  },
  {
   "cell_type": "code",
   "execution_count": 17,
   "metadata": {},
   "outputs": [],
   "source": [
    "# values() 메소드는 딕셔너리에서 value 목록만 얻어온다."
   ]
  },
  {
   "cell_type": "code",
   "execution_count": 41,
   "metadata": {},
   "outputs": [
    {
     "name": "stdout",
     "output_type": "stream",
     "text": [
      "dict_values(['홍길동', '010-1234-1234', 20])\n"
     ]
    }
   ],
   "source": [
    "a = {'name': '홍길동', 'phone': '010-1234-1234', 'age': 20}\n",
    "print(a.values())"
   ]
  },
  {
   "cell_type": "code",
   "execution_count": 19,
   "metadata": {},
   "outputs": [],
   "source": [
    "# items() 메소드는 딕셔너리에서 key와 value를 쌍으로 묶은 튜플을 얻어온다."
   ]
  },
  {
   "cell_type": "code",
   "execution_count": 43,
   "metadata": {},
   "outputs": [
    {
     "name": "stdout",
     "output_type": "stream",
     "text": [
      "dict_items([('name', '홍길동'), ('phone', '010-1234-1234'), ('age', 20)])\n"
     ]
    }
   ],
   "source": [
    "a = {'name': '홍길동', 'phone': '010-1234-1234', 'age': 20}\n",
    "print(a.items())"
   ]
  },
  {
   "cell_type": "code",
   "execution_count": 21,
   "metadata": {},
   "outputs": [],
   "source": [
    "# clear() 메소드는 딕셔너리에 저장된 모든 데이터를 삭제한다."
   ]
  },
  {
   "cell_type": "code",
   "execution_count": 47,
   "metadata": {},
   "outputs": [
    {
     "name": "stdout",
     "output_type": "stream",
     "text": [
      "{}\n"
     ]
    }
   ],
   "source": [
    "a = {'name': '홍길동', 'phone': '010-1234-1234', 'age': 20}\n",
    "a.clear()\n",
    "print(a)"
   ]
  },
  {
   "cell_type": "code",
   "execution_count": 23,
   "metadata": {},
   "outputs": [],
   "source": [
    "# del 명령을 사용하면 딕셔너리 자체를 삭제할 수 있다."
   ]
  },
  {
   "cell_type": "code",
   "execution_count": 48,
   "metadata": {},
   "outputs": [
    {
     "ename": "NameError",
     "evalue": "name 'a' is not defined",
     "output_type": "error",
     "traceback": [
      "\u001b[1;31m---------------------------------------------------------------------------\u001b[0m",
      "\u001b[1;31mNameError\u001b[0m                                 Traceback (most recent call last)",
      "\u001b[1;32m<ipython-input-48-5b4efd41b0c5>\u001b[0m in \u001b[0;36m<module>\u001b[1;34m\u001b[0m\n\u001b[0;32m      1\u001b[0m \u001b[0ma\u001b[0m \u001b[1;33m=\u001b[0m \u001b[1;33m{\u001b[0m\u001b[1;34m'name'\u001b[0m\u001b[1;33m:\u001b[0m \u001b[1;34m'홍길동'\u001b[0m\u001b[1;33m,\u001b[0m \u001b[1;34m'phone'\u001b[0m\u001b[1;33m:\u001b[0m \u001b[1;34m'010-1234-1234'\u001b[0m\u001b[1;33m,\u001b[0m \u001b[1;34m'age'\u001b[0m\u001b[1;33m:\u001b[0m \u001b[1;36m20\u001b[0m\u001b[1;33m}\u001b[0m\u001b[1;33m\u001b[0m\u001b[1;33m\u001b[0m\u001b[0m\n\u001b[0;32m      2\u001b[0m \u001b[1;32mdel\u001b[0m \u001b[0ma\u001b[0m\u001b[1;33m\u001b[0m\u001b[1;33m\u001b[0m\u001b[0m\n\u001b[1;32m----> 3\u001b[1;33m \u001b[0mprint\u001b[0m\u001b[1;33m(\u001b[0m\u001b[0ma\u001b[0m\u001b[1;33m)\u001b[0m\u001b[1;33m\u001b[0m\u001b[1;33m\u001b[0m\u001b[0m\n\u001b[0m",
      "\u001b[1;31mNameError\u001b[0m: name 'a' is not defined"
     ]
    }
   ],
   "source": [
    "a = {'name': '홍길동', 'phone': '010-1234-1234', 'age': 20}\n",
    "del a\n",
    "print(a)"
   ]
  },
  {
   "cell_type": "code",
   "execution_count": null,
   "metadata": {},
   "outputs": [],
   "source": []
  }
 ],
 "metadata": {
  "kernelspec": {
   "display_name": "Python 3",
   "language": "python",
   "name": "python3"
  },
  "language_info": {
   "codemirror_mode": {
    "name": "ipython",
    "version": 3
   },
   "file_extension": ".py",
   "mimetype": "text/x-python",
   "name": "python",
   "nbconvert_exporter": "python",
   "pygments_lexer": "ipython3",
   "version": "3.6.8"
  }
 },
 "nbformat": 4,
 "nbformat_minor": 4
}
