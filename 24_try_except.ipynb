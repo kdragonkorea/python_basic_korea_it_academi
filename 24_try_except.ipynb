{
 "cells": [
  {
   "cell_type": "markdown",
   "metadata": {},
   "source": [
    "#### 오류(예외) 처리  \n",
    "프로그램을 작성할 때 잘못 동작되는 것을 방지하기 위해 오류가 발생된다.  \n",
    "=> 오류가 발생된 부분에서 프로그램이 멈춘다.  \n",
    "try ~ except를 사용하면 오류가 발생되었을 때 별도의 처리를 하거나 오류를 무시하고 프로그램을 실행할 수 있다."
   ]
  },
  {
   "cell_type": "markdown",
   "metadata": {},
   "source": [
    "오류가 발생될 것으로 예상되는 문장을 try 블록에 코딩하고 try 블록에 코딩된 내용을 실행하다 오류가 발생되면 더 이상 try 블록의 내용을 실행하지 않고 해당 오류의 except 블록에 코딩된 내용을 실행한다.  \n",
    "\n",
    "try: # 필수  \n",
    "&nbsp;&nbsp;&nbsp;&nbsp;오류가 발생될 것으로 예상되는 문장  \n",
    "&nbsp;&nbsp;&nbsp;&nbsp;...  \n",
    "except [오류 이름 [as 변수]]: # 필수 => []안의 오류 이름은 생략할 수 있다. => 오류 이름을 생략하면 모든 오류를 의미한다.  \n",
    "&nbsp;&nbsp;&nbsp;&nbsp;오류가 발생되면 실행할 문장  \n",
    "&nbsp;&nbsp;&nbsp;&nbsp;...  \n",
    "finally: # 선택 => 필요하면 사용한다.  \n",
    "&nbsp;&nbsp;&nbsp;&nbsp;오류 발생 여부와 상관없이 무조건 실행해야 할 문장이 있다면 finally 블록에 코딩한다."
   ]
  },
  {
   "cell_type": "code",
   "execution_count": 7,
   "metadata": {},
   "outputs": [
    {
     "name": "stdout",
     "output_type": "stream",
     "text": [
      "4.0\n"
     ]
    }
   ],
   "source": [
    "try:\n",
    "    print(4 / 1) # 이 문장은 정상적으로 실행된다.\n",
    "    print(4 / 0) # ZeroDivisionError가 발생된다. => 프로그램이 멈춘다.\n",
    "    print(4 / 4) # 오류가 발생되면 이 문장은 실행되지 않는다.\n",
    "except:\n",
    "    # 오류 발생 시 아무런 일도 하지 않고 오류를 무시하려면 아래와 같이 pass를 사용하면 된다.\n",
    "    pass"
   ]
  },
  {
   "cell_type": "code",
   "execution_count": 14,
   "metadata": {},
   "outputs": [
    {
     "name": "stdout",
     "output_type": "stream",
     "text": [
      "4.0\n",
      "나눗셈은 0으로 할 수 없습니다.\n"
     ]
    }
   ],
   "source": [
    "try:\n",
    "    print(4 / 1) # 이 문장은 정상적으로 실행된다.\n",
    "    print(4 / 0) # ZeroDivisionError가 발생된다. => 프로그램이 멈춘다. => 현재 문장 부터 나머지 문장은 실행하지 않고 except 블록의 문장이 실행된다.\n",
    "    print(4 / 4) # 오류가 발생되면 이 문장은 실행되지 않는다.\n",
    "except:\n",
    "    # 오류 발생 시 아무런 일도 하지 않고 오류를 무시하려면 아래와 같이 pass를 사용하면 된다.\n",
    "    # pass\n",
    "    print('나눗셈은 0으로 할 수 없습니다.') # 오류 메세지"
   ]
  },
  {
   "cell_type": "code",
   "execution_count": 15,
   "metadata": {},
   "outputs": [
    {
     "name": "stdout",
     "output_type": "stream",
     "text": [
      "3\n",
      "리스트의 인덱스 지정이 올바르지 않습니다.\n"
     ]
    }
   ],
   "source": [
    "data = [1, 2, 3]\n",
    "try:\n",
    "    print(data[2])  # 이 문장은 정상적으로 실행된다.\n",
    "    print(data[3])  # IndexError가 발생된다. => 프로그램이 멈춘다. => 현재 문장 부터 나머지 문장은 실행하지 않고 except 블록의 문장이 실행된다.\n",
    "    print(data[-1]) # 오류가 발생되면 이 문장은 실행되지 않는다.\n",
    "except:\n",
    "    # pass\n",
    "    print('리스트의 인덱스 지정이 올바르지 않습니다.') # 오류 메세지"
   ]
  },
  {
   "cell_type": "code",
   "execution_count": 24,
   "metadata": {},
   "outputs": [
    {
     "name": "stdout",
     "output_type": "stream",
     "text": [
      "리스트의 인덱스 지정이 올바르지 않습니다.\n",
      "list index out of range\n",
      "오류가 발생하던 발생하지 않던 무조건 실행할 문장이 있다면 이곳에 코딩한다.\n"
     ]
    }
   ],
   "source": [
    "data = [1, 2, 3]\n",
    "string = '오늘이 아쉽지만 종강이에요'\n",
    "try:\n",
    "    # print(4 / 0)   # ZeroDivisionError\n",
    "    print(data[3]) # IndexError\n",
    "    print(string)\n",
    "    # print('%d' % string) # TypeError\n",
    "except ZeroDivisionError: # ZeroDivisionError가 발생될 때 실행된다.\n",
    "    # except 뒤에 오류 이름을 쓰면 지정된 오류가 발생될 때에멘 오류를 처리한다.\n",
    "    print('나눗셈은 0으로 할 수 없습니다.')\n",
    "except IndexError as e: # IndexError가 발생될 때 실행된다.\n",
    "    # except 뒤에 오류 이름을 쓰고 as로 변수를 지정하면 파이썬이 내보내는 오류 메시지가 변수에 저장된다.\n",
    "    print('리스트의 인덱스 지정이 올바르지 않습니다.')\n",
    "    print(e)\n",
    "except:\n",
    "    # ZeroDivisionError, IndexError를 제외한 오류가 발생되면 이곳에 코딩한 문장이 실행된다.\n",
    "    # except 뒤에 오류 이름을 지정하지 않으면 모든 오류를 처리할 수 있다. => except만 사용할 경우 반드시 맨 마지막에 코딩한다.\n",
    "    print('데이터 타입이 올바르지 않습니다.')\n",
    "finally:\n",
    "    print('오류가 발생하던 발생하지 않던 무조건 실행할 문장이 있다면 이곳에 코딩한다.')"
   ]
  },
  {
   "cell_type": "code",
   "execution_count": 25,
   "metadata": {},
   "outputs": [
    {
     "name": "stdout",
     "output_type": "stream",
     "text": [
      "['010', '1', '10', '111', '50']\n"
     ]
    }
   ],
   "source": [
    "data = ['010', '1', '10', '111', '50']\n",
    "data.sort()\n",
    "print(data)"
   ]
  },
  {
   "cell_type": "code",
   "execution_count": 27,
   "metadata": {},
   "outputs": [
    {
     "name": "stdout",
     "output_type": "stream",
     "text": [
      "정렬할 데이터를 입력하세요(999가 입력되면 정렬을 시작합니다.) : aaa\n",
      "정렬할 데이터를 입력하세요(999가 입력되면 정렬을 시작합니다.) : 111\n",
      "정렬할 데이터를 입력하세요(999가 입력되면 정렬을 시작합니다.) : 010\n",
      "정렬할 데이터를 입력하세요(999가 입력되면 정렬을 시작합니다.) : 1\n",
      "정렬할 데이터를 입력하세요(999가 입력되면 정렬을 시작합니다.) : bbb\n",
      "정렬할 데이터를 입력하세요(999가 입력되면 정렬을 시작합니다.) : 999\n",
      "[1, 10, 111, 'aaa', 'bbb']\n"
     ]
    }
   ],
   "source": [
    "# 숫자와 문자가 섞여서 데이터가 입력될 때 오름차순(숫자 => 문자) 정렬해서 출력하기, '999' 가 입력되면 정렬을 시작한다.\n",
    "number = [] # 입력되는 숫자가 저장될 빈 리스트\n",
    "alpha = [] # 입력되는 문자가 저장될 빈 리스트\n",
    "while True:\n",
    "    var = input('정렬할 데이터를 입력하세요(999가 입력되면 정렬을 시작합니다.) : ')\n",
    "    if var == '999' :\n",
    "        break\n",
    "    # 입력받은 데이터가 0 부터 9 사이의 문자로만 구성된 경우와 그렇지 않은 경우를 각각 number, alpha 리스트에 저장한다.\n",
    "    try:\n",
    "        number.append(int(var))\n",
    "    except:\n",
    "        alpha.append(var)\n",
    "number.sort()\n",
    "alpha.sort()\n",
    "print(number + alpha)"
   ]
  },
  {
   "cell_type": "code",
   "execution_count": null,
   "metadata": {},
   "outputs": [],
   "source": []
  },
  {
   "cell_type": "code",
   "execution_count": null,
   "metadata": {},
   "outputs": [],
   "source": []
  },
  {
   "cell_type": "code",
   "execution_count": null,
   "metadata": {},
   "outputs": [],
   "source": []
  },
  {
   "cell_type": "code",
   "execution_count": null,
   "metadata": {},
   "outputs": [],
   "source": []
  }
 ],
 "metadata": {
  "kernelspec": {
   "display_name": "Python 3",
   "language": "python",
   "name": "python3"
  },
  "language_info": {
   "codemirror_mode": {
    "name": "ipython",
    "version": 3
   },
   "file_extension": ".py",
   "mimetype": "text/x-python",
   "name": "python",
   "nbconvert_exporter": "python",
   "pygments_lexer": "ipython3",
   "version": "3.6.8"
  }
 },
 "nbformat": 4,
 "nbformat_minor": 4
}
