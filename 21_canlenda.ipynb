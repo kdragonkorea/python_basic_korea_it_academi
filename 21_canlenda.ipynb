{
 "cells": [
  {
   "cell_type": "code",
   "execution_count": 11,
   "metadata": {},
   "outputs": [],
   "source": [
    "from calendarModule_20201130 import *\n",
    "from datetime import datetime as dt"
   ]
  },
  {
   "cell_type": "code",
   "execution_count": 14,
   "metadata": {},
   "outputs": [
    {
     "name": "stdout",
     "output_type": "stream",
     "text": [
      "이번달 => 1, 특정달 => 2 : 2\n",
      "달력을 출력한 년, 월을 입력하세요: 2020 12\n",
      "============================\n",
      "        2020년12월\n",
      "============================\n",
      " 일 월 화 수 목 금 토 \n",
      "============================\n",
      "          1   2   3   4   5 \n",
      "  6   7   8   9  10  11  12 \n",
      " 13  14  15  16  17  18  19 \n",
      " 20  21  22  23  24  25  26 \n",
      " 27  28  29  30  31 \n",
      "============================\n"
     ]
    }
   ],
   "source": [
    "menu = input('이번달 => 1, 특정달 => 2 : ')\n",
    "if menu == '1':\n",
    "    # 달력 프로그램이 시작되면 컴퓨터의 년, 월을 얻어와서 이번달 달력을 출력한다.\n",
    "    now = dt.now()\n",
    "    year = now.year\n",
    "    month = now.month\n",
    "else:\n",
    "    year, month = map(int, input('달력을 출력한 년, 월을 입력하세요: ').split())\n",
    "\n",
    "print('=' * 28)\n",
    "print('        {0:4d}년{1:2d}월'.format(year, month))\n",
    "print('=' * 28)\n",
    "print(' 일 월 화 수 목 금 토 ')\n",
    "print('=' * 28)\n",
    "\n",
    "# 1일이 출력될 요일의 위치를 맞추기 위해서 1일의 요일 만큼 반복하며 빈 칸을 출력한다. => 빈 칸은 반복당 4칸씩 띄운다.\n",
    "for i in range(weekDay(year, month, 1)):\n",
    "    print('    ', end = '')\n",
    "\n",
    "\n",
    "# 1일 부터 달력을 출력할 달의 마지막 날짜까지 반복하며 달력을 출력한다.\n",
    "for i in range(1, lastDay(year, month) + 1):\n",
    "    print(' {0:2d} '.format(i), end = '')\n",
    "    # 출력한 날짜(i)가 토요일이고 그 달의 마지막 날짜가 아니면 줄을 바꾼다.\n",
    "    if weekDay(year, month, i) == 6 and i != lastDay(year, month):\n",
    "        print()\n",
    "# print('\\n' + '=' * 28)\n",
    "print()\n",
    "print('=' * 28)\n"
   ]
  },
  {
   "cell_type": "code",
   "execution_count": null,
   "metadata": {},
   "outputs": [],
   "source": []
  }
 ],
 "metadata": {
  "kernelspec": {
   "display_name": "Python 3",
   "language": "python",
   "name": "python3"
  },
  "language_info": {
   "codemirror_mode": {
    "name": "ipython",
    "version": 3
   },
   "file_extension": ".py",
   "mimetype": "text/x-python",
   "name": "python",
   "nbconvert_exporter": "python",
   "pygments_lexer": "ipython3",
   "version": "3.6.8"
  }
 },
 "nbformat": 4,
 "nbformat_minor": 4
}
