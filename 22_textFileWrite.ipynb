{
 "cells": [
  {
   "cell_type": "markdown",
   "metadata": {},
   "source": [
    "#### 파일 열기\n",
    "변수 = open('텍스트 파일 이름', '파일 열기 mode')  \n",
    "파일 열기 mode => w(write, 쓰기 전용 => 덮어쓰기), a(append, 쓰기 전용 => 뒤에 추가), r(read, 읽기 전용)  \n",
    "w는 지정된 경로에 파일이 없으면 파일을 만든 후 저장한다. => 기존에 저장된 데이터를 지우고 다시 저장한다.  \n",
    "a는 지정된 경로에 파일이 없으면 파일을 만든 후 저장한다. => 기존에 저장된 데이터 뒤에 추가해서 저장한다.  \n",
    "r은 지정된 경로에 파일이 없으면 에러가 발생된다.  \n",
    "w, a mode로 파일을 열어서 작업했으면 반드시 close() 메소드를 파일을 닫아줘야 정상적으로 처리되고 r mode는 닫지 않아도 상관없다.\n",
    "\n",
    "파이썬을 이용해서 텍스트 파일을 처리할 경우 아래 설정이 되어있어야 한다.  \n",
    "windows 10 : 파일 탐색기 => 보기 메뉴 => 파일 확장명 체크  \n",
    "windows 공통 : 보기 메뉴 => 폴더 및 검색 옵션 변경 => 알려진 파일 형식어 ... 체크 해제"
   ]
  },
  {
   "cell_type": "code",
   "execution_count": 1,
   "metadata": {},
   "outputs": [
    {
     "name": "stdout",
     "output_type": "stream",
     "text": [
      "data.text 파일에 쓰기 완료!\n"
     ]
    }
   ],
   "source": [
    "# open() 함수에 파일 이름만 쓰면 현재 화면에 열린 프로그램이 위치한 경로에 파일이 있다는 의미이다.\n",
    "file = open('data.txt', 'w')\n",
    "for i in range(1, 11):\n",
    "    # write 메소드로 텍스트 파일에 출력한다. \n",
    "    # => 출력할 때 끝에 개행 문자('\\n')를 붙여줘야 텍스트 파일에 데이터가 저장될 때 줄이 바뀐다.\n",
    "    # str() 함수는 숫자를 문자열로 변환한다.\n",
    "    file.write(str(i) + '\\n')\n",
    "file.close()\n",
    "print('data.text 파일에 쓰기 완료!')"
   ]
  },
  {
   "cell_type": "code",
   "execution_count": 2,
   "metadata": {},
   "outputs": [],
   "source": [
    "# 현재 작업중인 소스 프로그램이 위치한 경로가 아닌 다른 경로에 파일을 저장하려면 파일이 저장될 경로를 지정해야 한다.\n",
    "\n",
    "# 절대 경로 : 파일을 저장할 폴더가 위치한 디스크 드라이브의 root 디렉토리(폴더) 부터 파일을 저장할 폴더 까지의 경로\n",
    "# C:\\python_kangyong\\data => 에러가 발생되면 '\\'룰 '\\\\'로 변경하면 된다.\n",
    "\n",
    "# 상대 경로 : 현재 작업중인 소스 프로그램이 위치한 경로 부터 파일을 저장할 폴더 까지의 경로\n",
    "# '.' => 현재 화면에 표시되는 소스 파일이 위치한 디렉토리 (폴더를 의미한다.)"
   ]
  },
  {
   "cell_type": "code",
   "execution_count": 3,
   "metadata": {},
   "outputs": [
    {
     "name": "stdout",
     "output_type": "stream",
     "text": [
      "data.text 파일에 쓰기 완료!\n"
     ]
    }
   ],
   "source": [
    "file = open('C:\\python_kangyong\\data\\data.txt', 'w')  # 정대 경로\n",
    "for i in range(1, 11):\n",
    "    # write 메소드로 텍스트 파일에 출력한다. \n",
    "    # => 출력할 때 끝에 개행 문자('\\n')를 붙여줘야 텍스트 파일에 데이터가 저장될 때 줄이 바뀐다.\n",
    "    # str() 함수는 숫자를 문자열로 변환한다.\n",
    "    file.write(str(i) + '\\n')\n",
    "file.close()\n",
    "print('data.text 파일에 쓰기 완료!')"
   ]
  },
  {
   "cell_type": "code",
   "execution_count": 4,
   "metadata": {},
   "outputs": [
    {
     "name": "stdout",
     "output_type": "stream",
     "text": [
      "data.text 파일에 쓰기 완료!\n"
     ]
    }
   ],
   "source": [
    "file = open('.\\data\\data1.txt', 'w')  # 상대 경로\n",
    "for i in range(1, 11):\n",
    "    # write 메소드로 텍스트 파일에 출력한다. \n",
    "    # => 출력할 때 끝에 개행 문자('\\n')를 붙여줘야 텍스트 파일에 데이터가 저장될 때 줄이 바뀐다.\n",
    "    # str() 함수는 숫자를 문자열로 변환한다.\n",
    "    file.write(str(i) + '\\n')\n",
    "file.close()\n",
    "print('data.text 파일에 쓰기 완료!')"
   ]
  },
  {
   "cell_type": "code",
   "execution_count": 5,
   "metadata": {},
   "outputs": [
    {
     "name": "stdout",
     "output_type": "stream",
     "text": [
      ">>> asdf\n",
      ">>> fdsa\n",
      ">>> qwer\n",
      ">>> zxcv\n",
      ">>> quit\n",
      "data.text 파일에 쓰기 완료!\n"
     ]
    }
   ],
   "source": [
    "# 키보드로 입력한 문자열을 텍스트 파일로 저장한다. => 'quit'가 입력되면 입력을 중지하고 저장한다.\n",
    "# => 'quit'는 대문자와 소문자를 구분하지 않는다.\n",
    "\n",
    "file = open('.\\data\\data1.txt', 'w')\n",
    "while True:\n",
    "    string = input('>>> ')\n",
    "    # 'quit'가 입력되면 무한 루프를 탈출한다.\n",
    "    if string.lower() == 'quit':\n",
    "        break\n",
    "    file.write(string + '\\n')\n",
    "\n",
    "file.close()\n",
    "print('data.text 파일에 쓰기 완료!')"
   ]
  },
  {
   "cell_type": "code",
   "execution_count": 6,
   "metadata": {},
   "outputs": [
    {
     "name": "stdout",
     "output_type": "stream",
     "text": [
      ">>> rrrr\n",
      ">>> QUIT\n",
      "data.text 파일에 추가 완료!\n"
     ]
    }
   ],
   "source": [
    "file = open('.\\data\\data1.txt', 'a')\n",
    "while True:\n",
    "    string = input('>>> ')\n",
    "    if string.upper() == 'QUIT':\n",
    "        break\n",
    "    file.write(string + '\\n')\n",
    "\n",
    "file.close()\n",
    "print('data.text 파일에 추가 완료!')"
   ]
  },
  {
   "cell_type": "code",
   "execution_count": null,
   "metadata": {},
   "outputs": [],
   "source": []
  },
  {
   "cell_type": "code",
   "execution_count": null,
   "metadata": {},
   "outputs": [],
   "source": []
  }
 ],
 "metadata": {
  "kernelspec": {
   "display_name": "Python 3",
   "language": "python",
   "name": "python3"
  },
  "language_info": {
   "codemirror_mode": {
    "name": "ipython",
    "version": 3
   },
   "file_extension": ".py",
   "mimetype": "text/x-python",
   "name": "python",
   "nbconvert_exporter": "python",
   "pygments_lexer": "ipython3",
   "version": "3.6.8"
  }
 },
 "nbformat": 4,
 "nbformat_minor": 4
}
