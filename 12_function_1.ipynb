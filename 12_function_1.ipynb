{
 "cells": [
  {
   "cell_type": "markdown",
   "metadata": {},
   "source": [
    "# 함수의 구조  \n",
    "**`def`** 함수이름([인수, ...]):  (함수의 인수는 필요 없으면 생략할 수 있다.)   \n",
    "&nbsp;&nbsp;&nbsp;&nbsp; 함수가 실행할 문장  \n",
    "&nbsp;&nbsp;&nbsp;&nbsp; ...  \n",
    "&nbsp;&nbsp;&nbsp;&nbsp;[return 함수를 실행한 결과 값]  (함수를 실행한 결과가 없다면 생략할 수 있다.)"
   ]
  },
  {
   "cell_type": "markdown",
   "metadata": {},
   "source": [
    "# 함수의 실행 순서  \n",
    "1. 프로그램에서 **`함수가 호출되면 호출된 함수로 제어가 넘어간다.`** (복귀 주소는 스택에 저장)\n",
    "2. 호출된 함수에서 정의한 기능을 모두 실행하거나 **`return 명령을 만나면 함수가 종료되고 함수를 호출한 문장으로 돌아간다.`**\n",
    "3. return 뒤에 값이 있으면 값을 가지고 돌아가고 값이 없으면 None을 가지고 돌아간다."
   ]
  },
  {
   "cell_type": "markdown",
   "metadata": {},
   "source": [
    "# 가장 일반적인 함수의 모양\n",
    "#### a, b 2개의 데이터를 인수로 넘겨받아 덧셈을 실행한 후 결과를 return 하는 함수"
   ]
  },
  {
   "cell_type": "code",
   "execution_count": 17,
   "metadata": {},
   "outputs": [],
   "source": [
    "def add(a, b):\n",
    "    print('add(a, b) 함수가 실행됩니다.')"
   ]
  },
  {
   "cell_type": "markdown",
   "metadata": {},
   "source": [
    "# 함수 이용시 주의사항\n",
    "1. 실인수와 가인수의 이름은 반드시 같아야 할 필요는 없지만 함수를 호출할 때 인수의 개수는 반드시 같아야 한다. \n",
    "2. 예외적으로 디폴트 인수를 사용하면 달라도 된다."
   ]
  },
  {
   "cell_type": "code",
   "execution_count": 8,
   "metadata": {},
   "outputs": [
    {
     "name": "stdout",
     "output_type": "stream",
     "text": [
      "정수 2개를 입력하세요: 1 3\n",
      "add(a, b) 함수가 실행됩니다.\n",
      "None\n"
     ]
    }
   ],
   "source": [
    "a, b = map(int, input('정수 2개를 입력하세요: ').split())\n",
    "print(add(a, b))\n",
    "# return이 없기 때문에 None을 가지고 돌아왔다."
   ]
  },
  {
   "cell_type": "code",
   "execution_count": 23,
   "metadata": {},
   "outputs": [],
   "source": [
    "# return 만들고 실행"
   ]
  },
  {
   "cell_type": "code",
   "execution_count": 11,
   "metadata": {},
   "outputs": [],
   "source": [
    "def add(a, b):\n",
    "    print('add(a, b) 함수가 실행됩니다.')\n",
    "    result = a + b\n",
    "    return result"
   ]
  },
  {
   "cell_type": "code",
   "execution_count": 12,
   "metadata": {},
   "outputs": [
    {
     "name": "stdout",
     "output_type": "stream",
     "text": [
      "정수 2개를 입력하세요: 3 2\n",
      "add(a, b) 함수가 실행됩니다.\n",
      "5\n"
     ]
    }
   ],
   "source": [
    "a, b = map(int, input('정수 2개를 입력하세요: ').split())\n",
    "print(add(a, b))"
   ]
  },
  {
   "cell_type": "markdown",
   "metadata": {},
   "source": [
    "#### 실인수와 가인수는 독립된 메모리 공간을 사용하기 때문에 가인수의 값이 변경되더라도 실인수의 값은 변경되지 않는다."
   ]
  },
  {
   "cell_type": "code",
   "execution_count": 14,
   "metadata": {},
   "outputs": [],
   "source": [
    "def add(a, b):\n",
    "    print('add(a, b) 함수가 실행됩니다.')\n",
    "    result = a + b\n",
    "    a = 900\n",
    "    print('가인수 a : {}'.format(a))\n",
    "    return result    "
   ]
  },
  {
   "cell_type": "code",
   "execution_count": 14,
   "metadata": {},
   "outputs": [
    {
     "name": "stdout",
     "output_type": "stream",
     "text": [
      "정수 2개를 입력하세요: 2 4\n",
      "add(a, b) 함수가 실행됩니다.\n",
      "6\n",
      "실인수 a : 2\n"
     ]
    }
   ],
   "source": [
    "a, b = map(int, input('정수 2개를 입력하세요: ').split())\n",
    "print(add(a, b))\n",
    "print('실인수 a : {}'.format(a))"
   ]
  },
  {
   "cell_type": "code",
   "execution_count": 36,
   "metadata": {},
   "outputs": [],
   "source": [
    "# 가인수의 a와 실인수의 a는 다른 인수로 구분해야 한다."
   ]
  },
  {
   "cell_type": "code",
   "execution_count": null,
   "metadata": {},
   "outputs": [],
   "source": []
  }
 ],
 "metadata": {
  "kernelspec": {
   "display_name": "Python 3",
   "language": "python",
   "name": "python3"
  },
  "language_info": {
   "codemirror_mode": {
    "name": "ipython",
    "version": 3
   },
   "file_extension": ".py",
   "mimetype": "text/x-python",
   "name": "python",
   "nbconvert_exporter": "python",
   "pygments_lexer": "ipython3",
   "version": "3.7.6"
  }
 },
 "nbformat": 4,
 "nbformat_minor": 4
}
