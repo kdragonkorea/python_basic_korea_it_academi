{
 "cells": [
  {
   "cell_type": "code",
   "execution_count": 7,
   "metadata": {},
   "outputs": [
    {
     "name": "stdout",
     "output_type": "stream",
     "text": [
      "data.text 파일에 읽기 완료!\n"
     ]
    }
   ],
   "source": [
    "file = open('.\\data\\data1.txt', 'r')\n",
    "# readline() 메소드로 텍스트 파일의 내용을 한 줄 씩 읽어들인 내용을 저장할 빈 리스트를 선언한다.\n",
    "lines = []\n",
    "\n",
    "# 텍스트 파일에 저장된 데이터가 몇 줄인지 알 수 없으므로 무한 루프를 돌려서 읽는다.\n",
    "while True:\n",
    "    # readline() 메소드로 텍스트 파일의 데이터를 한 줄씩 읽어올 수 있다.\n",
    "    line = file.readline()\n",
    "    # 텍스트 파일에서 읽어들인 데이터가 없을 경우 무한 루프를 탈출한다.\n",
    "    if not line: #readline() 메소드로 텍스트 파일에서 읽어들인 데이터가 없는가?\n",
    "        break\n",
    "    # 읽어들인 데이터가 빈 줄(읽어들인 데이터가 모두 공백)이면 읽어들인 내용을 리스트에 저장하지 않는다.\n",
    "    if len(line.strip()) != 0:\n",
    "        # print(line, end = ' ')\n",
    "        # print(line.strip())\n",
    "        lines.append(line.strip())\n",
    "file.close()\n",
    "print('data.text 파일에 읽기 완료!')"
   ]
  },
  {
   "cell_type": "code",
   "execution_count": 10,
   "metadata": {},
   "outputs": [
    {
     "name": "stdout",
     "output_type": "stream",
     "text": [
      "<class 'list'>\n",
      "data.text 파일에 읽기 완료!\n"
     ]
    }
   ],
   "source": [
    "file = open('.\\data\\data1.txt', 'r')\n",
    "\n",
    "# readlines() 메소드로 텍스트 파일의 데이터 전체를 한꺼번에 읽어서 리스트로 얻어온다.\n",
    "lines = file.readlines()\n",
    "print(type(lines))\n",
    "\n",
    "\n",
    "file.close()\n",
    "print('data.text 파일에 읽기 완료!')"
   ]
  },
  {
   "cell_type": "code",
   "execution_count": 12,
   "metadata": {},
   "outputs": [
    {
     "name": "stdout",
     "output_type": "stream",
     "text": [
      "asdf\n",
      "fdsa\n",
      "qwer\n",
      "zxcv\n",
      "rrrr\n"
     ]
    }
   ],
   "source": [
    "for line in lines:\n",
    "    if len(line.strip()) != 0:\n",
    "        print(line, end = '')"
   ]
  },
  {
   "cell_type": "code",
   "execution_count": 14,
   "metadata": {},
   "outputs": [
    {
     "name": "stdout",
     "output_type": "stream",
     "text": [
      "asdf\n",
      "fdsa\n",
      "qwer\n",
      "zxcv\n",
      "rrrr\n"
     ]
    }
   ],
   "source": [
    "for i in range(len(lines)):\n",
    "    if len(line.strip()) != 0:\n",
    "        print(lines[i].strip())"
   ]
  },
  {
   "cell_type": "code",
   "execution_count": null,
   "metadata": {},
   "outputs": [],
   "source": []
  },
  {
   "cell_type": "code",
   "execution_count": null,
   "metadata": {},
   "outputs": [],
   "source": []
  },
  {
   "cell_type": "code",
   "execution_count": null,
   "metadata": {},
   "outputs": [],
   "source": []
  }
 ],
 "metadata": {
  "kernelspec": {
   "display_name": "Python 3",
   "language": "python",
   "name": "python3"
  },
  "language_info": {
   "codemirror_mode": {
    "name": "ipython",
    "version": 3
   },
   "file_extension": ".py",
   "mimetype": "text/x-python",
   "name": "python",
   "nbconvert_exporter": "python",
   "pygments_lexer": "ipython3",
   "version": "3.6.8"
  }
 },
 "nbformat": 4,
 "nbformat_minor": 4
}
