{
 "cells": [
  {
   "cell_type": "code",
   "execution_count": 4,
   "metadata": {},
   "outputs": [
    {
     "name": "stdout",
     "output_type": "stream",
     "text": [
      "2020-12-07 19:11:01.242395\n"
     ]
    }
   ],
   "source": [
    "import datetime\n",
    "now = datetime.datetime.now()\n",
    "print(now)"
   ]
  },
  {
   "cell_type": "code",
   "execution_count": 5,
   "metadata": {},
   "outputs": [
    {
     "name": "stdout",
     "output_type": "stream",
     "text": [
      "2020-12-07 19:11:01.258372\n"
     ]
    }
   ],
   "source": [
    "from datetime import datetime\n",
    "now = datetime.now()\n",
    "print(now)"
   ]
  },
  {
   "cell_type": "code",
   "execution_count": 6,
   "metadata": {},
   "outputs": [
    {
     "name": "stdout",
     "output_type": "stream",
     "text": [
      "2020-12-07 19:11:01.268345\n"
     ]
    }
   ],
   "source": [
    "from datetime import datetime as dt\n",
    "now = dt.now()\n",
    "print(now)"
   ]
  },
  {
   "cell_type": "code",
   "execution_count": 18,
   "metadata": {},
   "outputs": [
    {
     "name": "stdout",
     "output_type": "stream",
     "text": [
      "년 : 2020\n",
      "월 : 12\n",
      "일 : 7\n",
      "시 : 19\n",
      "분 : 11\n",
      "초 : 1\n",
      "마이크로초 : 268345\n",
      "마이크로초 : 268\n",
      "요일 : 0\n"
     ]
    }
   ],
   "source": [
    "print('년 : {}'.format(now.year))\n",
    "print('월 : {}'.format(now.month))\n",
    "print('일 : {}'.format(now.day))\n",
    "print('시 : {}'.format(now.hour))\n",
    "print('분 : {}'.format(now.minute))\n",
    "print('초 : {}'.format(now.second))\n",
    "print('마이크로초 : {}'.format(now.microsecond))\n",
    "print('마이크로초 : {}'.format(now.microsecond // 1000))\n",
    "# weekday() 메소드는 요일을 숫자로 얻어올 수 있다. => 월요일(0), 화요일(1), ..., 토요일(5), 일요일(6)\n",
    "print('요일 : {}'.format(now.weekday()))"
   ]
  },
  {
   "cell_type": "code",
   "execution_count": null,
   "metadata": {},
   "outputs": [],
   "source": []
  },
  {
   "cell_type": "code",
   "execution_count": null,
   "metadata": {},
   "outputs": [],
   "source": []
  },
  {
   "cell_type": "code",
   "execution_count": null,
   "metadata": {},
   "outputs": [],
   "source": []
  },
  {
   "cell_type": "code",
   "execution_count": null,
   "metadata": {},
   "outputs": [],
   "source": []
  },
  {
   "cell_type": "code",
   "execution_count": null,
   "metadata": {},
   "outputs": [],
   "source": []
  },
  {
   "cell_type": "code",
   "execution_count": null,
   "metadata": {},
   "outputs": [],
   "source": []
  }
 ],
 "metadata": {
  "kernelspec": {
   "display_name": "Python 3",
   "language": "python",
   "name": "python3"
  },
  "language_info": {
   "codemirror_mode": {
    "name": "ipython",
    "version": 3
   },
   "file_extension": ".py",
   "mimetype": "text/x-python",
   "name": "python",
   "nbconvert_exporter": "python",
   "pygments_lexer": "ipython3",
   "version": "3.6.8"
  }
 },
 "nbformat": 4,
 "nbformat_minor": 4
}
