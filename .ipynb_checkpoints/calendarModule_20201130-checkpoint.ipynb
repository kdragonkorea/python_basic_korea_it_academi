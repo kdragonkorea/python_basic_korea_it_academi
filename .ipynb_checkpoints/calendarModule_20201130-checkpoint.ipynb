{
 "cells": [
  {
   "cell_type": "code",
   "execution_count": 12,
   "metadata": {},
   "outputs": [],
   "source": [
    "# 인수로 년을 넘겨받아 윤년, 평년을 판단해서 윤년이면 True, 평년이면 False를 리턴하는 함수\n",
    "# 윤년, 평년 판별식 => 년도가 4로 나눠 떨어지고 100으로 나눠 떨어지지 않거나 400으로 나눠 떨어지면 윤년\n",
    "# return 값이 논리값인 함수의 이름은 'is'로 시작하는 것이 관행이다."
   ]
  },
  {
   "cell_type": "code",
   "execution_count": 13,
   "metadata": {},
   "outputs": [],
   "source": [
    "def isLeapYear(year):\n",
    "    return year % 4 == 0 and year % 100 != 0 or year % 400 == 0"
   ]
  },
  {
   "cell_type": "code",
   "execution_count": 14,
   "metadata": {},
   "outputs": [
    {
     "name": "stdout",
     "output_type": "stream",
     "text": [
      "True\n"
     ]
    }
   ],
   "source": [
    "print(isLeapYear(2020))"
   ]
  },
  {
   "cell_type": "code",
   "execution_count": 15,
   "metadata": {},
   "outputs": [],
   "source": [
    "# 인수로 년, 월을 넘겨받아 그 달의 마지막 날자를 리턴하는 함수\n",
    "def lastDay(year, month):\n",
    "    # 12달의 마지막 날짜를 기억하는 리스트를 선언한다. => 일단 2월의 마지막 날짜는 28일로 초기화 시킨다.\n",
    "    m = [31, 28, 31, 30, 31, 30, 31, 31, 30, 31, 30, 31]\n",
    "    # 2월의 마지막 날짜를 확정한다.\n",
    "    if isLeapYear(year):\n",
    "        m[1] = 29\n",
    "        # m[1] = 29 if isLeapYear(year) else 28\n",
    "    # 인수로 넘겨받은 년, 월에 해당되는 마지막 날짜를 리턴시킨다.\n",
    "    return m[month - 1]"
   ]
  },
  {
   "cell_type": "code",
   "execution_count": 16,
   "metadata": {},
   "outputs": [
    {
     "name": "stdout",
     "output_type": "stream",
     "text": [
      "True\n",
      "29\n"
     ]
    }
   ],
   "source": [
    "print(isLeapYear(2020))\n",
    "print(lastDay(2020, 2))"
   ]
  },
  {
   "cell_type": "markdown",
   "metadata": {},
   "source": [
    "수업시작_20201202"
   ]
  },
  {
   "cell_type": "code",
   "execution_count": 17,
   "metadata": {},
   "outputs": [],
   "source": [
    "# 인수로 년, 월, 일을 넘겨받아 1년 1월 1일 부터 지난 날짜의 합계를 리턴하는 함수"
   ]
  },
  {
   "cell_type": "code",
   "execution_count": 29,
   "metadata": {},
   "outputs": [],
   "source": [
    "def totalDay(year, month, day):\n",
    "    # 1년 1월 1일 부터 전년도 12월 31일 까지 지난 날짜를 계산하다.\n",
    "    total = (year - 1) * 365 + (year - 1) // 4 - (year - 1) // 100 + (year - 1) // 400\n",
    "    # 전년도 까지 지난 날짜에 전달 까지 지난 날짜를 더해준다.\n",
    "    for i in range(1, month):\n",
    "        total += lastDay(year, i)\n",
    "    # 전달 까지 지난 날짜에 일을 더해서 리턴시킨다.\n",
    "    return total + day"
   ]
  },
  {
   "cell_type": "code",
   "execution_count": 30,
   "metadata": {},
   "outputs": [
    {
     "name": "stdout",
     "output_type": "stream",
     "text": [
      "True\n",
      "29\n",
      "737761\n"
     ]
    }
   ],
   "source": [
    "print(isLeapYear(2020))\n",
    "print(lastDay(2020, 2))\n",
    "print(totalDay(2020, 12, 2))"
   ]
  },
  {
   "cell_type": "code",
   "execution_count": 35,
   "metadata": {},
   "outputs": [],
   "source": [
    "# 인수로 년, 월, 일을 넘겨받아 요일을 숫자로 리턴하는 함수\n",
    "# 일요일(0), 월요일(1), 화요일(2), 수요일(3), 목요일(4), 금요일(5), 토요일(6)\n",
    "def weekDay(year, month, day):\n",
    "    return totalDay(year, month, day) % 7"
   ]
  },
  {
   "cell_type": "code",
   "execution_count": 39,
   "metadata": {},
   "outputs": [
    {
     "name": "stdout",
     "output_type": "stream",
     "text": [
      "True\n",
      "31\n",
      "737761\n",
      "3\n"
     ]
    }
   ],
   "source": [
    "# 하나의 파이썬 파일을 사용할 때는 if __name__ == '__main__':를 사용하나 사용하지 않으나 별 차이가 없다.\n",
    "# 하지만 현재 파일을 다른 파일에서 import 시켜서 사용하게 된다면 if __name__ == '__main__':를 붙여주지 않으면 테스트를 하기 위해\n",
    "# 사용했던 코드가 현재 파일을 import 한 파일에 결과가 출력된다.\n",
    "if __name__ == '__main__':\n",
    "    print(isLeapYear(2020))\n",
    "    print(lastDay(2020, 12))\n",
    "    print(totalDay(2020, 12, 2))\n",
    "    print(weekDay(2020, 12, 2))"
   ]
  },
  {
   "cell_type": "code",
   "execution_count": null,
   "metadata": {},
   "outputs": [],
   "source": []
  }
 ],
 "metadata": {
  "kernelspec": {
   "display_name": "Python 3",
   "language": "python",
   "name": "python3"
  },
  "language_info": {
   "codemirror_mode": {
    "name": "ipython",
    "version": 3
   },
   "file_extension": ".py",
   "mimetype": "text/x-python",
   "name": "python",
   "nbconvert_exporter": "python",
   "pygments_lexer": "ipython3",
   "version": "3.6.8"
  }
 },
 "nbformat": 4,
 "nbformat_minor": 4
}
