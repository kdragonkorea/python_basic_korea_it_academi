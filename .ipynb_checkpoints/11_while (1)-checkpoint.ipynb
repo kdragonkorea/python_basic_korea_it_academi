{
 "cells": [
  {
   "cell_type": "markdown",
   "metadata": {},
   "source": [
    "# 반복문 while"
   ]
  },
  {
   "cell_type": "markdown",
   "metadata": {},
   "source": [
    "1. while은 조건이 참인 동안 반복하다가 **`조건이 거짓이 되는 순간 반복이 종료`**된다.  \n",
    "2. while로 진입하는 최초 조건이 거짓일 경우 한 번도 반복을 실행하지 않는다.  \n",
    "3. for는 반복을 몇 번 해야 하는지 알 경우 사용하고 while은 반복을 하기는 해야겠는데 몇 번이나 반복해야 하나 반복 횟수를 정확히 모를 경우 사용한다."
   ]
  },
  {
   "cell_type": "markdown",
   "metadata": {},
   "source": [
    "while 조건식:  \n",
    "&nbsp;&nbsp;&nbsp;&nbsp;조건식이 참일 경우 실행할 문장  \n",
    "&nbsp;&nbsp;&nbsp;&nbsp; ..."
   ]
  },
  {
   "cell_type": "code",
   "execution_count": 6,
   "metadata": {},
   "outputs": [
    {
     "name": "stdout",
     "output_type": "stream",
     "text": [
      "55\n"
     ]
    }
   ],
   "source": [
    "total = 0\n",
    "for i in range(1, 11):\n",
    "    total += i\n",
    "print(total)"
   ]
  },
  {
   "cell_type": "code",
   "execution_count": 7,
   "metadata": {},
   "outputs": [
    {
     "name": "stdout",
     "output_type": "stream",
     "text": [
      "55\n"
     ]
    }
   ],
   "source": [
    "i = 0\n",
    "total = 0\n",
    "while i < 10:\n",
    "    i += 1\n",
    "    total += i\n",
    "print(total)"
   ]
  },
  {
   "cell_type": "code",
   "execution_count": 2,
   "metadata": {},
   "outputs": [
    {
     "name": "stdout",
     "output_type": "stream",
     "text": [
      "0\n"
     ]
    }
   ],
   "source": [
    "i = 0\n",
    "total = 0\n",
    "while i > 10:\n",
    "    i += 1\n",
    "    total += i\n",
    "print(total)"
   ]
  },
  {
   "cell_type": "code",
   "execution_count": 12,
   "metadata": {},
   "outputs": [
    {
     "name": "stdout",
     "output_type": "stream",
     "text": [
      "========================================\n",
      "1.입력 2.보기 3.수정 4.삭제 5.종료\n",
      "========================================\n",
      "원하는 메뉴를 입력하세요 : 1\n"
     ]
    }
   ],
   "source": [
    "# while 명령의 조건식이 항상 참이면 무한 루프가 된다.\n",
    "# 사용자가 의도적으로 무한 루프를 발생시켰다면 반드시 무한 루프를 탈출하는 처리를 해야한다. => 반복 탈출시 break 명령을 사용한다.\n",
    "# break 명령은 for와 while 같은 반복문의 실행을 중지시킨다.\n",
    "# break 명령은 break 명령 이후의 문장을 실행하지 않고 반복을 탈출하고 continue 명령은 continue 명령 이후의 문장을 실행하지 않고\n",
    "# 다시 반복을 실행한다.\n",
    "\n",
    "while True:\n",
    "    print('=' * 40)\n",
    "    print('1.입력 2.보기 3.수정 4.삭제 5.종료')\n",
    "    print('=' * 40)\n",
    "    menu = int(input('원하는 메뉴를 입력하세요 : '))\n",
    "          \n",
    "    # 메뉴에 1부터 5사이의 값이 입력되었다면 무한 루프를 탈출시킨다.\n",
    "    # if menu in [i for i in range(1,6)]:\n",
    "    if menu >= 1 and menu <= 5: # 권장한다. \n",
    "        break; # 반복문의 실행을 중지시킨다.\n",
    "    else:\n",
    "        print('메뉴는 1부터 5사이의 값만 입력 가능합니다.')"
   ]
  },
  {
   "cell_type": "markdown",
   "metadata": {},
   "source": [
    "로또 1등 번호 만들기"
   ]
  },
  {
   "cell_type": "code",
   "execution_count": 17,
   "metadata": {},
   "outputs": [
    {
     "name": "stdout",
     "output_type": "stream",
     "text": [
      "1등 번호 : {8, 41, 43, 21, 22, 28}\n"
     ]
    }
   ],
   "source": [
    "import random\n",
    "lotto = set()\n",
    "\n",
    "while True:\n",
    "    lottoNumber = random.randrange(1, 46)\n",
    "    # print(lottoNumber, end = ', ')\n",
    "    lotto.add(lottoNumber)\n",
    "    # print(lotto)\n",
    "    if len(lotto) == 6:\n",
    "        break\n",
    "print('1등 번호 : {}'.format(lotto))"
   ]
  },
  {
   "cell_type": "markdown",
   "metadata": {},
   "source": [
    "숙제 - 로또 보너스를 구현해보세요."
   ]
  },
  {
   "cell_type": "markdown",
   "metadata": {},
   "source": [
    "수업시작 - 2020-11-30"
   ]
  },
  {
   "cell_type": "markdown",
   "metadata": {},
   "source": [
    "보너스번호"
   ]
  },
  {
   "cell_type": "code",
   "execution_count": 28,
   "metadata": {},
   "outputs": [
    {
     "name": "stdout",
     "output_type": "stream",
     "text": [
      "보너스 번호 : 16\n"
     ]
    }
   ],
   "source": [
    "while True:\n",
    "    bonus = random.randrange(1, 46)\n",
    "    if bonus not in lotto:\n",
    "        break\n",
    "print('보너스 번호 : {}'.format(bonus))"
   ]
  },
  {
   "cell_type": "code",
   "execution_count": 31,
   "metadata": {},
   "outputs": [
    {
     "name": "stdout",
     "output_type": "stream",
     "text": [
      "1등 번호 : {32, 1, 5, 6, 40, 24}, 보너스 번호 : 33\n"
     ]
    }
   ],
   "source": [
    "# 로또와 보너스번호 같이 출력하기\n",
    "import random\n",
    "lotto = set()\n",
    "\n",
    "while True:\n",
    "    lottoNumber = random.randrange(1, 46)\n",
    "    # print(lottoNumber, end = ', ')\n",
    "    lotto.add(lottoNumber)\n",
    "    # print(lotto)\n",
    "    if len(lotto) == 6:\n",
    "        break\n",
    "print('1등 번호 : {}'.format(lotto), end = ', ')\n",
    "\n",
    "while True:\n",
    "    bonus = random.randrange(1, 46)\n",
    "    if bonus not in lotto:\n",
    "        break\n",
    "print('보너스 번호 : {}'.format(bonus))"
   ]
  },
  {
   "cell_type": "code",
   "execution_count": 32,
   "metadata": {},
   "outputs": [],
   "source": [
    "# 미국 로또(파워볼)는 1 ~ 69 사이에 5개, 1 ~ 26 사이에 1개"
   ]
  },
  {
   "cell_type": "code",
   "execution_count": 66,
   "metadata": {},
   "outputs": [
    {
     "name": "stdout",
     "output_type": "stream",
     "text": [
      "흰공 : {13, 48, 19, 52, 53}, 파워볼 : 1\n"
     ]
    }
   ],
   "source": [
    "import random\n",
    "lotto = set()\n",
    "\n",
    "while True:\n",
    "    lottoNumber = random.randrange(1, 70)\n",
    "    lotto.add(lottoNumber)\n",
    "    if len(lotto) == 5:\n",
    "        break\n",
    "print('흰공 : {}'.format(lotto), end = ', ')\n",
    "\n",
    "# 빨간공 => 파워볼\n",
    "redball = random.randrange(1, 27)\n",
    "print('파워볼 : {}'.format(redball))"
   ]
  },
  {
   "cell_type": "code",
   "execution_count": null,
   "metadata": {},
   "outputs": [],
   "source": []
  },
  {
   "cell_type": "code",
   "execution_count": null,
   "metadata": {},
   "outputs": [],
   "source": []
  },
  {
   "cell_type": "code",
   "execution_count": null,
   "metadata": {},
   "outputs": [],
   "source": []
  },
  {
   "cell_type": "code",
   "execution_count": null,
   "metadata": {},
   "outputs": [],
   "source": []
  }
 ],
 "metadata": {
  "kernelspec": {
   "display_name": "Python 3",
   "language": "python",
   "name": "python3"
  },
  "language_info": {
   "codemirror_mode": {
    "name": "ipython",
    "version": 3
   },
   "file_extension": ".py",
   "mimetype": "text/x-python",
   "name": "python",
   "nbconvert_exporter": "python",
   "pygments_lexer": "ipython3",
   "version": "3.6.8"
  }
 },
 "nbformat": 4,
 "nbformat_minor": 4
}
