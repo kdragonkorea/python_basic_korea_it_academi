{
 "cells": [
  {
   "cell_type": "code",
   "execution_count": 2,
   "metadata": {},
   "outputs": [],
   "source": [
    "# '#'으로 시작하면 한 줄 주석 => 컴파일러나 인터프리터가 번역하지 않는다.\n",
    "#  ''' 부터'''사이에 코딩하면 범위 주석으로 지정할 수 있다."
   ]
  },
  {
   "cell_type": "code",
   "execution_count": 7,
   "metadata": {},
   "outputs": [
    {
     "name": "stdout",
     "output_type": "stream",
     "text": [
      "Hello Python\n",
      "안녕 파이썬\n"
     ]
    }
   ],
   "source": [
    "# print() 함수는 ()안의 내용을 출력하고 줄을 바꾼다.\n",
    "print(\"Hello Python\")\n",
    "print('안녕 파이썬')\n",
    "# 큰 따옴표랑 작은 따옴표를 파이썬에서는 구분하지 않는다. 단 Java 또는 다른 언어의 경우 구분할줄 알아야 한다."
   ]
  },
  {
   "cell_type": "code",
   "execution_count": null,
   "metadata": {},
   "outputs": [],
   "source": []
  }
 ],
 "metadata": {
  "kernelspec": {
   "display_name": "Python 3",
   "language": "python",
   "name": "python3"
  },
  "language_info": {
   "codemirror_mode": {
    "name": "ipython",
    "version": 3
   },
   "file_extension": ".py",
   "mimetype": "text/x-python",
   "name": "python",
   "nbconvert_exporter": "python",
   "pygments_lexer": "ipython3",
   "version": "3.6.8"
  }
 },
 "nbformat": 4,
 "nbformat_minor": 4
}
