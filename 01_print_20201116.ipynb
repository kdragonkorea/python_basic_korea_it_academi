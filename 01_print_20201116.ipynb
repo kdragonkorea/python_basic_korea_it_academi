{
 "cells": [
  {
   "cell_type": "markdown",
   "metadata": {},
   "source": [
    "# 2020-11-13"
   ]
  },
  {
   "cell_type": "code",
   "execution_count": 1,
   "metadata": {},
   "outputs": [],
   "source": [
    "# print()  함수는 () 안의 내용을 출력하고 줄을 바꾼다."
   ]
  },
  {
   "cell_type": "code",
   "execution_count": 2,
   "metadata": {},
   "outputs": [
    {
     "name": "stdout",
     "output_type": "stream",
     "text": [
      "Hello Python\n",
      "안녕 파이썬\n"
     ]
    }
   ],
   "source": [
    "print(\"Hello Python\")\n",
    "print('안녕 파이썬')"
   ]
  },
  {
   "cell_type": "markdown",
   "metadata": {},
   "source": [
    "# 2020-11-16"
   ]
  },
  {
   "cell_type": "code",
   "execution_count": 15,
   "metadata": {},
   "outputs": [
    {
     "name": "stdout",
     "output_type": "stream",
     "text": [
      "제2외국어를 배운 호랑이가 '야옹' 했습니다.\n",
      "제2외국어를 배운 호랑이가 \"야옹\" 했습니다.\n"
     ]
    }
   ],
   "source": [
    "print(\"제2외국어를 배운 호랑이가 '야옹' 했습니다.\")\n",
    "print('제2외국어를 배운 호랑이가 \"야옹\" 했습니다.')"
   ]
  },
  {
   "cell_type": "code",
   "execution_count": 16,
   "metadata": {},
   "outputs": [
    {
     "ename": "SyntaxError",
     "evalue": "invalid syntax (<ipython-input-16-129ea0c5aec6>, line 1)",
     "output_type": "error",
     "traceback": [
      "\u001b[1;36m  File \u001b[1;32m\"<ipython-input-16-129ea0c5aec6>\"\u001b[1;36m, line \u001b[1;32m1\u001b[0m\n\u001b[1;33m    print(\"제2외국어를 배운 호랑이가 \"야옹\" 했습니다.\")\u001b[0m\n\u001b[1;37m                           ^\u001b[0m\n\u001b[1;31mSyntaxError\u001b[0m\u001b[1;31m:\u001b[0m invalid syntax\n"
     ]
    }
   ],
   "source": [
    "print(\"제2외국어를 배운 호랑이가 \"야옹\" 했습니다.\")"
   ]
  },
  {
   "cell_type": "code",
   "execution_count": 17,
   "metadata": {},
   "outputs": [
    {
     "name": "stdout",
     "output_type": "stream",
     "text": [
      "제2외국어를 배운 호랑이가 \"야옹\" 했습니다.\n"
     ]
    }
   ],
   "source": [
    "print(\"제2외국어를 배운 호랑이가 \\\"야옹\\\" 했습니다.\")"
   ]
  },
  {
   "cell_type": "code",
   "execution_count": 20,
   "metadata": {},
   "outputs": [],
   "source": [
    "# print() 함수로 출력 후 줄을 변경하지 않으려면 아래와 같이 end 옵션을 지정한다.\n",
    "# end 옵션은 print() 함수로 출력한 후 출력할 내용을 지정한다. => end 옵션을 생략하면 '＼n'이 기본값으로 사용된다. =>\n",
    "# new line(줄바꿈)을 의미한다."
   ]
  },
  {
   "cell_type": "code",
   "execution_count": 19,
   "metadata": {},
   "outputs": [
    {
     "name": "stdout",
     "output_type": "stream",
     "text": [
      "Hello \\Python 안녕 파이썬\n"
     ]
    }
   ],
   "source": [
    "print(\"Hello \\Python\", end=' ')\n",
    "print('안녕 파이썬')"
   ]
  },
  {
   "cell_type": "code",
   "execution_count": 21,
   "metadata": {},
   "outputs": [],
   "source": [
    "# print() 함수로 2개 이상의 데이터를 출력하려면 ','나 '+'로 구분해 출력한다.\n",
    "# ','로 데이터를 구분하면 sep 옵션으로 지정한 내용이 데이터 사이에 출력된다. => sep 옵션을 생략하면 공백이 기본값으로 사용된다."
   ]
  },
  {
   "cell_type": "code",
   "execution_count": 36,
   "metadata": {},
   "outputs": [
    {
     "name": "stdout",
     "output_type": "stream",
     "text": [
      "Hello Python안녕 파이썬\n"
     ]
    }
   ],
   "source": [
    "print(\"Hello Python\" +'안녕 파이썬')"
   ]
  },
  {
   "cell_type": "code",
   "execution_count": 37,
   "metadata": {},
   "outputs": [
    {
     "name": "stdout",
     "output_type": "stream",
     "text": [
      "Hello Python 안녕 파이썬\n",
      "Hello Python 안녕 파이썬\n"
     ]
    }
   ],
   "source": [
    "print(\"Hello Python\", '안녕 파이썬')\n",
    "print(\"Hello Python\", '안녕 파이썬', sep=' ')"
   ]
  },
  {
   "cell_type": "code",
   "execution_count": 41,
   "metadata": {},
   "outputs": [
    {
     "name": "stdout",
     "output_type": "stream",
     "text": [
      "Hello Python 안녕 파이썬\n",
      "Hello Python안녕 파이썬\n",
      "Hello Python123안녕 파이썬\n"
     ]
    }
   ],
   "source": [
    "print(\"Hello Python\", '안녕 파이썬', sep=' ')\n",
    "print(\"Hello Python\", '안녕 파이썬', sep='')\n",
    "print(\"Hello Python\", '안녕 파이썬', sep='123')"
   ]
  },
  {
   "cell_type": "code",
   "execution_count": 42,
   "metadata": {},
   "outputs": [],
   "source": [
    "# print() 함수에서 문자열 뒤에 '*' 연산자를 사용하면 지정된 숫자 만큼 문자열을 반복해서 출력한다."
   ]
  },
  {
   "cell_type": "code",
   "execution_count": 44,
   "metadata": {},
   "outputs": [
    {
     "name": "stdout",
     "output_type": "stream",
     "text": [
      "aa\n",
      "bbbb\n",
      "cccccccccc\n"
     ]
    }
   ],
   "source": [
    "print('a' * 2)\n",
    "print('b' * 4)\n",
    "print('c' * 10)"
   ]
  },
  {
   "cell_type": "markdown",
   "metadata": {},
   "source": [
    "# '%'와 서식 문자를 사용해서 출력 서식 지정하기"
   ]
  },
  {
   "cell_type": "markdown",
   "metadata": {},
   "source": [
    "* 서식 문자\n",
    "* d(정수), f(실수), s(문자열)를 사용해서 출력 서식을 지정할 수 있다. => 출력 서식 문자를 제외한 나머지 문자는 입력한 그대로 출력된다.\n",
    "출력 서식의 형식\n",
    "* `-` : 전체 자\n",
    "\n",
    "**`%[-][0][n][.m]서식문자 => []안의 내용은 생략할 수 있다. => 필요한 경우 사용한다.**\n",
    "* 자리수가 지정된 경우 데이터를 왼쪽에 맞춰 출력한다. => 전체 자리수를 지정하면 오른쪽에 맞춰 출력된다.\n",
    "* 0 : 전체 자리수가 지정된 경우 숫자 데이터의 왼쪽 남는 자리에 '0'을 채워 출력한다. => 문자에서는 무시된다.\n",
    "* n : 전체 자리수\n",
    "* .m : 실수를 출력할 경우 소수점 아래 자리수"
   ]
  },
  {
   "cell_type": "code",
   "execution_count": 54,
   "metadata": {},
   "outputs": [
    {
     "name": "stdout",
     "output_type": "stream",
     "text": [
      "100\n",
      "1\n",
      "10000\n"
     ]
    }
   ],
   "source": [
    "print(100)\n",
    "print(1)\n",
    "print(10000)"
   ]
  },
  {
   "cell_type": "code",
   "execution_count": 79,
   "metadata": {},
   "outputs": [
    {
     "name": "stdout",
     "output_type": "stream",
     "text": [
      "                      100\n",
      "100                      \n",
      "100            \n",
      "  100\n"
     ]
    }
   ],
   "source": [
    "print('%25d' % 100)\n",
    "print('%-25d' % 100)\n",
    "print('%-15d' % 100)\n",
    "print('%5d' % 100)"
   ]
  },
  {
   "cell_type": "code",
   "execution_count": 45,
   "metadata": {},
   "outputs": [
    {
     "name": "stdout",
     "output_type": "stream",
     "text": [
      "  100\n",
      "    1\n",
      "1    \n",
      "00001\n",
      "10000\n",
      "01\n"
     ]
    }
   ],
   "source": [
    "# print('출력 서식' % 출력할 데이터)\n",
    "print('%5d' % 100)\n",
    "print('%5d' % 1)\n",
    "print('%-5d' % 1)\n",
    "print('%05d' % 1)\n",
    "print('%5d' % 10000)\n",
    "print('%02d' % 1)"
   ]
  },
  {
   "cell_type": "code",
   "execution_count": 64,
   "metadata": {},
   "outputs": [
    {
     "name": "stdout",
     "output_type": "stream",
     "text": [
      "abc\n",
      "a\n",
      "abcde\n"
     ]
    }
   ],
   "source": [
    "print('abc')\n",
    "print('a')\n",
    "print('abcde')"
   ]
  },
  {
   "cell_type": "code",
   "execution_count": 70,
   "metadata": {
    "scrolled": true
   },
   "outputs": [
    {
     "name": "stdout",
     "output_type": "stream",
     "text": [
      "  abc\n",
      "    a\n",
      "abcde\n",
      "a    \n",
      "    a\n"
     ]
    }
   ],
   "source": [
    "print('%5s' % 'abc')\n",
    "print('%5s' % 'a')\n",
    "print('%5s' % 'abcde')\n",
    "print('%-5s' % 'a')\n",
    "print('%05s' % 'a') # 파이썬은 문자열 서식에서 '0' 이 무시된다."
   ]
  },
  {
   "cell_type": "code",
   "execution_count": 75,
   "metadata": {},
   "outputs": [
    {
     "name": "stdout",
     "output_type": "stream",
     "text": [
      "123.45\n",
      "123.46\n",
      "123.40\n",
      "  60\n",
      "  60\n"
     ]
    }
   ],
   "source": [
    "print('%6.2f' % 123.45)\n",
    "print('%6.2f' % 123.456) # 소수점 아래 숫자는 잘리는 자리에서 반올림해서 출력한다. => 원래 데이터는 변경되지 않는다.\n",
    "print('%6.2f' % 123.4) # 남는 자리에는 '0'이 채워져서 출력된다.\n",
    "print('%4.0f' % 59.5)\n",
    "print('%4.0f' % 60.4)"
   ]
  },
  {
   "cell_type": "code",
   "execution_count": 85,
   "metadata": {},
   "outputs": [
    {
     "name": "stdout",
     "output_type": "stream",
     "text": [
      "5 + 3 = 8\n",
      "5 - 3 = 2\n",
      "5 * 3 = 15\n",
      "5 / 3 = 1\n",
      "5 / 3 = 1.666667\n",
      "5 // 3 = 1.000000\n",
      "5 % 3 = 2\n",
      "2 10 = 1024\n",
      "루트 2 = 1.414214\n"
     ]
    }
   ],
   "source": [
    "# 출력 서식에 맞춰 출력할 데이터가 2건 이상이라면 출력할 데이터를 반드시 ()로 묶어줘야 한다.\n",
    "print('%d + %d = %d' % (5, 3, 5 + 3)) # 덧셈\n",
    "print('%d - %d = %d' % (5, 3, 5 - 3)) # 뺄셈\n",
    "print('%d * %d = %d' % (5, 3, 5 * 3)) # 곱셈\n",
    "\n",
    "# 파이썬은 '/' 연산자로 나눗셈을 하면 소수점 아래까지 계산된다.\n",
    "print('%d / %d = %d' % (5, 3, 5 / 3)) # 나눗셈\n",
    "print('%d / %d = %f' % (5, 3, 5 / 3)) # 나눗셈\n",
    "\n",
    "# 나눗셈 결과 중 '몫'만 계산하고 싶다면 '//' 연산자를 사용한다.\n",
    "print('%d // %d = %f' % (5, 3, 5 // 3))\n",
    "\n",
    "# 출력 서식을 지정할 때 '%' 자체를 출력하고 싶다면 연속해서 2개를 써야한다.\n",
    "print('%d %% %d = %d' % (5, 3, 5 % 3)) # 나머지\n",
    "print('%d %d = %d' % (2, 10, 2 ** 10)) # 거듭제곱\n",
    "print('루트 %d = %f' % (2, 2 ** 0.5)) # 루트"
   ]
  },
  {
   "cell_type": "code",
   "execution_count": 86,
   "metadata": {},
   "outputs": [],
   "source": [
    "# 산술 연산자 우선순위 : () => ** => *, /, // => +, -"
   ]
  },
  {
   "cell_type": "markdown",
   "metadata": {},
   "source": [
    "# 문자열 출력 서식을 지정하는 format() 메소드와 {}를 사용해서 출력"
   ]
  },
  {
   "cell_type": "markdown",
   "metadata": {},
   "source": [
    "%를 사용하여 출력하는 방식"
   ]
  },
  {
   "cell_type": "code",
   "execution_count": 11,
   "metadata": {},
   "outputs": [
    {
     "name": "stdout",
     "output_type": "stream",
     "text": [
      "5 + 3 = 8\n"
     ]
    }
   ],
   "source": [
    "print('%d + %d = %d' % (5, 3, 5 + 3))"
   ]
  },
  {
   "cell_type": "markdown",
   "metadata": {},
   "source": [
    "format 메소드와 {}를 사용하여 출력하는 방식"
   ]
  },
  {
   "cell_type": "code",
   "execution_count": 13,
   "metadata": {},
   "outputs": [
    {
     "name": "stdout",
     "output_type": "stream",
     "text": [
      "5 + 3 = 8\n",
      "5 - 3 = 2\n",
      "5 * 3 = 15\n",
      "5 / 3 = 1.6666666666666667\n",
      "5 // 3 = 1\n",
      "5 % 3 = 2\n",
      "2의 % 10승 = 1024\n",
      "루트 2 = 1.4142135623730951\n"
     ]
    }
   ],
   "source": [
    "print('{} + {} = {}' .format(5, 3, 5 + 3))\n",
    "print('{} - {} = {}' .format(5, 3, 5 - 3))\n",
    "print('{} * {} = {}' .format(5, 3, 5 * 3))\n",
    "print('{} / {} = {}' .format(5, 3, 5 / 3)) #나눗셈\n",
    "print('{} // {} = {}'.format(5, 3, 5 // 3))\n",
    "print('{} % {} = {}' .format(5, 3, 5 % 3)) #나머지\n",
    "print('{}의 % {}승 = {}' .format(2, 10, 2 ** 10))\n",
    "print('루트 {} = {}' .format(2, 2 ** 0.5))"
   ]
  },
  {
   "cell_type": "markdown",
   "metadata": {},
   "source": [
    "인덱스와 format 메소드 상관관계"
   ]
  },
  {
   "cell_type": "code",
   "execution_count": 16,
   "metadata": {},
   "outputs": [],
   "source": [
    "# 인덱스 없이 문자 출력하는 방법"
   ]
  },
  {
   "cell_type": "code",
   "execution_count": 17,
   "metadata": {},
   "outputs": [
    {
     "name": "stdout",
     "output_type": "stream",
     "text": [
      "홍길동 바보\n"
     ]
    }
   ],
   "source": [
    "print('{} {}'.format('홍길동', '바보'))"
   ]
  },
  {
   "cell_type": "code",
   "execution_count": 20,
   "metadata": {},
   "outputs": [],
   "source": [
    "# 인덱스를 지정하지 않은 상태에서 {}와 출력할 데이터의 개수가 다를({}가 남을) 경우 에러가 발생"
   ]
  },
  {
   "cell_type": "code",
   "execution_count": 19,
   "metadata": {},
   "outputs": [
    {
     "ename": "IndexError",
     "evalue": "tuple index out of range",
     "output_type": "error",
     "traceback": [
      "\u001b[1;31m---------------------------------------------------------------------------\u001b[0m",
      "\u001b[1;31mIndexError\u001b[0m                                Traceback (most recent call last)",
      "\u001b[1;32m<ipython-input-19-95a3d2217c3a>\u001b[0m in \u001b[0;36m<module>\u001b[1;34m\u001b[0m\n\u001b[1;32m----> 1\u001b[1;33m \u001b[0mprint\u001b[0m\u001b[1;33m(\u001b[0m\u001b[1;34m'{} {} {}'\u001b[0m\u001b[1;33m.\u001b[0m\u001b[0mformat\u001b[0m\u001b[1;33m(\u001b[0m\u001b[1;34m'홍길동'\u001b[0m\u001b[1;33m,\u001b[0m \u001b[1;34m'바보'\u001b[0m\u001b[1;33m)\u001b[0m\u001b[1;33m)\u001b[0m\u001b[1;33m\u001b[0m\u001b[1;33m\u001b[0m\u001b[0m\n\u001b[0m",
      "\u001b[1;31mIndexError\u001b[0m: tuple index out of range"
     ]
    }
   ],
   "source": [
    "print('{} {} {}'.format('홍길동', '바보'))"
   ]
  },
  {
   "cell_type": "code",
   "execution_count": 21,
   "metadata": {},
   "outputs": [],
   "source": [
    "# 남는 데이터는 무시된다."
   ]
  },
  {
   "cell_type": "code",
   "execution_count": 2,
   "metadata": {},
   "outputs": [
    {
     "name": "stdout",
     "output_type": "stream",
     "text": [
      "홍길동\n",
      "홍길동 \n",
      "홍길동 바보\n"
     ]
    }
   ],
   "source": [
    "print('{}'.format('홍길동', '바보'))\n",
    "print('{} '.format('홍길동', '바보', '멍충이'))\n",
    "print('{} {}'.format('홍길동', '바보', '멍충이'))"
   ]
  },
  {
   "cell_type": "code",
   "execution_count": 3,
   "metadata": {},
   "outputs": [],
   "source": [
    "# format() 메소드와 출력할 데이터의 인덱스를 사용해서 출력하기 => 인덱스는 0부터 시작"
   ]
  },
  {
   "cell_type": "code",
   "execution_count": 33,
   "metadata": {},
   "outputs": [
    {
     "name": "stdout",
     "output_type": "stream",
     "text": [
      "홍길동 바보\n",
      "바보 홍길동\n"
     ]
    }
   ],
   "source": [
    "print('{0} {1}'.format('홍길동', '바보'))\n",
    "print('{1} {0}'.format('홍길동', '바보'))"
   ]
  },
  {
   "cell_type": "code",
   "execution_count": 34,
   "metadata": {},
   "outputs": [],
   "source": [
    "# 인덱스가 지정되면 출력할 데이터와 {}의 개수가 다르더라도 인덱스의 범위만 벗어나지 않으면 정상 출력된다."
   ]
  },
  {
   "cell_type": "code",
   "execution_count": 5,
   "metadata": {},
   "outputs": [
    {
     "name": "stdout",
     "output_type": "stream",
     "text": [
      "홍길동 바보 바보\n",
      "홍길동 바보 홍길동\n"
     ]
    }
   ],
   "source": [
    "print('{0} {1} {1}'.format('홍길동', '바보'))\n",
    "print('{0} {1} {0}'.format('홍길동', '바보'))"
   ]
  },
  {
   "cell_type": "code",
   "execution_count": 6,
   "metadata": {},
   "outputs": [],
   "source": [
    "# {} 안에 지정한 인덱스가 범위를 벗어나서 지정되면 에러가 발생된다."
   ]
  },
  {
   "cell_type": "code",
   "execution_count": 39,
   "metadata": {},
   "outputs": [
    {
     "ename": "IndexError",
     "evalue": "tuple index out of range",
     "output_type": "error",
     "traceback": [
      "\u001b[1;31m---------------------------------------------------------------------------\u001b[0m",
      "\u001b[1;31mIndexError\u001b[0m                                Traceback (most recent call last)",
      "\u001b[1;32m<ipython-input-39-82fdc2c61efb>\u001b[0m in \u001b[0;36m<module>\u001b[1;34m\u001b[0m\n\u001b[1;32m----> 1\u001b[1;33m \u001b[0mprint\u001b[0m\u001b[1;33m(\u001b[0m\u001b[1;34m'{0} {1} {2}'\u001b[0m\u001b[1;33m.\u001b[0m\u001b[0mformat\u001b[0m\u001b[1;33m(\u001b[0m\u001b[1;34m'홍길동'\u001b[0m\u001b[1;33m,\u001b[0m \u001b[1;34m'바보'\u001b[0m\u001b[1;33m)\u001b[0m\u001b[1;33m)\u001b[0m\u001b[1;33m\u001b[0m\u001b[1;33m\u001b[0m\u001b[0m\n\u001b[0m",
      "\u001b[1;31mIndexError\u001b[0m: tuple index out of range"
     ]
    }
   ],
   "source": [
    "print('{0} {1} {2}'.format('홍길동', '바보'))"
   ]
  },
  {
   "cell_type": "code",
   "execution_count": 40,
   "metadata": {},
   "outputs": [],
   "source": [
    "# 인덱스를 부분적으로 지정하면 {}의 개수와 데이터의 개수가 같더라도 에러가 발생된다."
   ]
  },
  {
   "cell_type": "code",
   "execution_count": 42,
   "metadata": {},
   "outputs": [
    {
     "ename": "ValueError",
     "evalue": "cannot switch from manual field specification to automatic field numbering",
     "output_type": "error",
     "traceback": [
      "\u001b[1;31m---------------------------------------------------------------------------\u001b[0m",
      "\u001b[1;31mValueError\u001b[0m                                Traceback (most recent call last)",
      "\u001b[1;32m<ipython-input-42-f74a20ee7b0f>\u001b[0m in \u001b[0;36m<module>\u001b[1;34m\u001b[0m\n\u001b[1;32m----> 1\u001b[1;33m \u001b[0mprint\u001b[0m\u001b[1;33m(\u001b[0m\u001b[1;34m'{0} {}'\u001b[0m\u001b[1;33m.\u001b[0m\u001b[0mformat\u001b[0m\u001b[1;33m(\u001b[0m\u001b[1;34m'홍길동'\u001b[0m\u001b[1;33m,\u001b[0m \u001b[1;34m'바보'\u001b[0m\u001b[1;33m)\u001b[0m\u001b[1;33m)\u001b[0m\u001b[1;33m\u001b[0m\u001b[1;33m\u001b[0m\u001b[0m\n\u001b[0m",
      "\u001b[1;31mValueError\u001b[0m: cannot switch from manual field specification to automatic field numbering"
     ]
    }
   ],
   "source": [
    "print('{0} {}'.format('홍길동', '바보'))"
   ]
  },
  {
   "cell_type": "markdown",
   "metadata": {},
   "source": [
    "# 출력 서식과 format() 메소드로 출력할 데이터의 인덱스를 사용해서 출력하기"
   ]
  },
  {
   "cell_type": "markdown",
   "metadata": {},
   "source": [
    "### {인덱스:출력서식} => 출력 서식 앞에 '%'는 붙이지 않는다."
   ]
  },
  {
   "cell_type": "code",
   "execution_count": 8,
   "metadata": {},
   "outputs": [
    {
     "name": "stdout",
     "output_type": "stream",
     "text": [
      "홍길동님은 20살 입니다.\n",
      "홍길동님은 20살 입니다.\n",
      "홍길동님은 20살 입니다.\n",
      "홍길동님은 20살 입니다.\n",
      "홍길동       님은 02000살 입니다.\n"
     ]
    }
   ],
   "source": [
    "print('%s님은 %d살 입니다.' % ('홍길동', 20))\n",
    "print('{}님은 {}살 입니다.'.format ('홍길동', 20)) #가장 많이 사용한다.\n",
    "print('{0}님은 {1}살 입니다.'.format('홍길동', 20))\n",
    "print('{0:s}님은 {1:d}살 입니다.'.format('홍길동', 20))\n",
    "print('{0:10s}님은 {1:05d}살 입니다.'.format('홍길동', 2000))"
   ]
  },
  {
   "cell_type": "markdown",
   "metadata": {},
   "source": [
    "### '<', '>', '^' 를 사용해서 문자열 출력시 정렬 방법을 지정할 수 있다. =>  '<'가 생략 시 기본값으로 사용된다."
   ]
  },
  {
   "cell_type": "code",
   "execution_count": 18,
   "metadata": {},
   "outputs": [
    {
     "name": "stdout",
     "output_type": "stream",
     "text": [
      "홍길동       님은 00020살 입니다.\n"
     ]
    }
   ],
   "source": [
    "print('{0:10s}님은 {1:05d}살 입니다.'.format ('홍길동', 20))"
   ]
  },
  {
   "cell_type": "code",
   "execution_count": 17,
   "metadata": {},
   "outputs": [
    {
     "name": "stdout",
     "output_type": "stream",
     "text": [
      "홍길동       님은 00020살 입니다.\n",
      "       홍길동님은 00020살 입니다.\n",
      "   홍길동    님은 00020살 입니다.\n"
     ]
    }
   ],
   "source": [
    "print('{0:<10s}님은 {1:05d}살 입니다.' .format ('홍길동', 20)) # 왼쪽 정렬\n",
    "print('{0:>10s}님은 {1:05d}살 입니다.' .format ('홍길동', 20)) # 오른쪽 정렬\n",
    "print('{0:^10s}님은 {1:05d}살 입니다.' .format ('홍길동', 20)) # 가운데 정렬"
   ]
  },
  {
   "cell_type": "markdown",
   "metadata": {},
   "source": [
    "### '<', '>', '^' 를 사용해서 문자열 출력시 남는 공백에 채워지는 채움 문자를 지정할 수 있다."
   ]
  },
  {
   "cell_type": "code",
   "execution_count": 15,
   "metadata": {},
   "outputs": [
    {
     "name": "stdout",
     "output_type": "stream",
     "text": [
      "홍길동_______님은 00020살 입니다.\n",
      "#######홍길동님은 00020살 입니다.\n",
      "***홍길동****님은 00020살 입니다.\n"
     ]
    }
   ],
   "source": [
    "print('{0:_<10s}님은 {1:05d}살 입니다.' .format ('홍길동', 20))\n",
    "print('{0:#>10s}님은 {1:05d}살 입니다.' .format ('홍길동', 20))\n",
    "print('{0:*^10s}님은 {1:05d}살 입니다.' .format ('홍길동', 20))"
   ]
  },
  {
   "cell_type": "markdown",
   "metadata": {},
   "source": [
    "# f 접두어를 사용한 출력"
   ]
  },
  {
   "cell_type": "code",
   "execution_count": 14,
   "metadata": {},
   "outputs": [
    {
     "name": "stdout",
     "output_type": "stream",
     "text": [
      "임꺽정님은 35살 입니다.\n"
     ]
    }
   ],
   "source": [
    "name = '임꺽정'\n",
    "age = 35\n",
    "print(f'{name}님은 {age}살 입니다.')"
   ]
  }
 ],
 "metadata": {
  "kernelspec": {
   "display_name": "Python 3",
   "language": "python",
   "name": "python3"
  },
  "language_info": {
   "codemirror_mode": {
    "name": "ipython",
    "version": 3
   },
   "file_extension": ".py",
   "mimetype": "text/x-python",
   "name": "python",
   "nbconvert_exporter": "python",
   "pygments_lexer": "ipython3",
   "version": "3.6.8"
  }
 },
 "nbformat": 4,
 "nbformat_minor": 4
}
