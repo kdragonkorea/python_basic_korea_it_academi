{
 "cells": [
  {
   "cell_type": "markdown",
   "metadata": {},
   "source": [
    "class는 데이터와 데이터를 처리하는 함수(클래스 내부에서 만든 함수를 메소드라 부른다.)를 가지고 있는 사용자 정의 자료형이다.  "
   ]
  },
  {
   "cell_type": "code",
   "execution_count": 13,
   "metadata": {},
   "outputs": [],
   "source": [
    "'''\n",
    "class 클래스이름: # 클래스 이름은 다른 변수와 혼동되지 않게하기 위해서 일반적으로 첫 문자를 대문자로 만들어 사용한다.\n",
    "    # 생성자(초기자) 함수를 만든다. => __init__\n",
    "    # 생성자(constructor)란 객체(클래스로 만든 변수)가 생성될 때 자동으로 실행되는 함수이다.\n",
    "    # 클래스 내부에서 정의하는 모든 함수의 첫 번째 인수로 무조건 self를 써야한다. => self로 클래스의 객체가 메모리에 생성된 주소가 자동으로 넘어온다.\n",
    "    # 주소가 자동으로 넘어온다.\n",
    "    # 생성자는 class의 멤버 변수(클래스의 모든 함수에서 사용할 수 있는 변수)를 초기화 시키는 목적으로 사용된다.\n",
    "    def __init__(self[, 인수, ...]):\n",
    "        # 멤버 변수 초기화\n",
    "        # 변수 이름 앞에 'self.'이 붙어있는 변수를 멤버 변수라 부르고 멤버 변수는 클래스 전체에서 사용할 수 있다.\n",
    "        # 변수 이름 앞에 'self.'이 붙어있지 않는 변수를 지역 변수라 부르고 지역 변수는 변수 자신이 선언된 함수에서만 사용할 수 있다.\n",
    "    \n",
    "    # 클래스에 저장된 데이터 출력에 사용하는 함수 __str(self)__는 java의 toString() 메소드와 같은 기능이 실행된다.\n",
    "    # __str(self)__ 함수를 선언하지 않으면 객체를 출력하면 객체에 저장된 데이터가 아닌 객체가 메모리에 생성된 주소가 출력된다.\n",
    "    def __str__(self):\n",
    "        # return 뒹 클래스 객체를 출력할 때 출력될 내용을 반드시 문장열 형태로 만들어 리턴시킨다.\n",
    "        return '출력할 내용'\n",
    "'''\n",
    "\n",
    "pass"
   ]
  },
  {
   "cell_type": "code",
   "execution_count": 24,
   "metadata": {},
   "outputs": [],
   "source": [
    "class Score:\n",
    "    # 생성자 함수로 Score 클래스 객체가 생성될 때 이름과 3과목의 점수를 넘겨받아 멤버 변수를 초기화 시키고 총점, 평균을 계산한다.\n",
    "    def __init__(self, name, python, java, jsp):\n",
    "        # print('Score 클래스의 객체가 생성될 때 자동으로 실행됩니다.')\n",
    "        # print('생성자 : ', self)\n",
    "        # 생성자 함수의 인수로 넘겨받은 데이터로 멤버 변수를 초기화 시킨다.\n",
    "        self.name = name\n",
    "        self.python = python\n",
    "        self.java = java\n",
    "        self.jsp = jsp\n",
    "        # 총점과 평균을 계산해 총점, 평균 ㅔㅁ버 변수에 저장시킨다.\n",
    "        self.total = python + java + jsp\n",
    "        self.mean = self.total / 3\n",
    "    def __str__(self):\n",
    "        return '이름 : {}, python : {}, java : {}, jsp : {}, 총점 : {}, 평균 : {}'.format(self.name, self.python, self.java, self.jsp, self.total, self.mean)"
   ]
  },
  {
   "cell_type": "code",
   "execution_count": 25,
   "metadata": {},
   "outputs": [
    {
     "name": "stdout",
     "output_type": "stream",
     "text": [
      "이름 : 홍길동, python : 100, java : 100, jsp : 100, 총점 : 300, 평균 : 100.0\n"
     ]
    }
   ],
   "source": [
    "# class 객체(변수) 선언 방법\n",
    "# 객체이름 = 클래스이름([생성자로 전달할 데이터, ...])\n",
    "# 클래스의 객체를 선언하면 클래스의 객체가 메모리에 생성된 주소가 생성자의 인수 self로 전달된다.\n",
    "score1 = Score('홍길동', 100, 100, 100)\n",
    "# 클래스에서 __str(self)__ 함수를 선언하지 않고 클래스 객체를 출력하면 객체가 메모리에 생성된 주소가 출력된다.\n",
    "print(score1)"
   ]
  },
  {
   "cell_type": "code",
   "execution_count": 26,
   "metadata": {},
   "outputs": [
    {
     "name": "stdout",
     "output_type": "stream",
     "text": [
      "이름 : 임꺽정, python : 40, java : 50, jsp : 50, 총점 : 140, 평균 : 46.666666666666664\n"
     ]
    }
   ],
   "source": [
    "score2 = Score('임꺽정', 40, 50, 50)\n",
    "print(score2)"
   ]
  },
  {
   "cell_type": "code",
   "execution_count": 28,
   "metadata": {},
   "outputs": [
    {
     "name": "stdout",
     "output_type": "stream",
     "text": [
      "홍길동\n",
      "임꺽정\n"
     ]
    }
   ],
   "source": [
    "print(score1.name)\n",
    "print(score2.name)"
   ]
  },
  {
   "cell_type": "code",
   "execution_count": null,
   "metadata": {},
   "outputs": [],
   "source": []
  }
 ],
 "metadata": {
  "kernelspec": {
   "display_name": "Python 3",
   "language": "python",
   "name": "python3"
  },
  "language_info": {
   "codemirror_mode": {
    "name": "ipython",
    "version": 3
   },
   "file_extension": ".py",
   "mimetype": "text/x-python",
   "name": "python",
   "nbconvert_exporter": "python",
   "pygments_lexer": "ipython3",
   "version": "3.6.8"
  }
 },
 "nbformat": 4,
 "nbformat_minor": 4
}
